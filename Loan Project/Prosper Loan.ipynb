{
 "cells": [
  {
   "cell_type": "markdown",
   "metadata": {},
   "source": [
    "# Prosper Loan\n",
    "## by (Omar Adel)\n",
    "\n",
    "## Preliminary Wrangling\n",
    "\n",
    ">This data set contains several loans with many variables on each loan, including loan amount, borrower rate (or interest rate), current loan status, borrower income, and many others."
   ]
  },
  {
   "cell_type": "code",
   "execution_count": 1,
   "metadata": {},
   "outputs": [],
   "source": [
    "# import all packages and set plots to be embedded inline\n",
    "import numpy as np\n",
    "import pandas as pd\n",
    "import matplotlib.pyplot as plt\n",
    "import seaborn as sb\n",
    "%matplotlib inline"
   ]
  },
  {
   "cell_type": "markdown",
   "metadata": {},
   "source": [
    "> Loading Dataset and Making some exploration and data-wrangling."
   ]
  },
  {
   "cell_type": "code",
   "execution_count": 2,
   "metadata": {},
   "outputs": [
    {
     "data": {
      "text/html": [
       "<div>\n",
       "<style scoped>\n",
       "    .dataframe tbody tr th:only-of-type {\n",
       "        vertical-align: middle;\n",
       "    }\n",
       "\n",
       "    .dataframe tbody tr th {\n",
       "        vertical-align: top;\n",
       "    }\n",
       "\n",
       "    .dataframe thead th {\n",
       "        text-align: right;\n",
       "    }\n",
       "</style>\n",
       "<table border=\"1\" class=\"dataframe\">\n",
       "  <thead>\n",
       "    <tr style=\"text-align: right;\">\n",
       "      <th></th>\n",
       "      <th>ListingKey</th>\n",
       "      <th>ListingNumber</th>\n",
       "      <th>ListingCreationDate</th>\n",
       "      <th>CreditGrade</th>\n",
       "      <th>Term</th>\n",
       "      <th>LoanStatus</th>\n",
       "      <th>ClosedDate</th>\n",
       "      <th>BorrowerAPR</th>\n",
       "      <th>BorrowerRate</th>\n",
       "      <th>LenderYield</th>\n",
       "      <th>EstimatedEffectiveYield</th>\n",
       "      <th>EstimatedLoss</th>\n",
       "      <th>EstimatedReturn</th>\n",
       "      <th>ProsperRating (numeric)</th>\n",
       "      <th>ProsperRating (Alpha)</th>\n",
       "      <th>ProsperScore</th>\n",
       "      <th>ListingCategory (numeric)</th>\n",
       "      <th>BorrowerState</th>\n",
       "      <th>Occupation</th>\n",
       "      <th>EmploymentStatus</th>\n",
       "      <th>EmploymentStatusDuration</th>\n",
       "      <th>IsBorrowerHomeowner</th>\n",
       "      <th>CurrentlyInGroup</th>\n",
       "      <th>GroupKey</th>\n",
       "      <th>DateCreditPulled</th>\n",
       "      <th>CreditScoreRangeLower</th>\n",
       "      <th>CreditScoreRangeUpper</th>\n",
       "      <th>FirstRecordedCreditLine</th>\n",
       "      <th>CurrentCreditLines</th>\n",
       "      <th>OpenCreditLines</th>\n",
       "      <th>TotalCreditLinespast7years</th>\n",
       "      <th>OpenRevolvingAccounts</th>\n",
       "      <th>OpenRevolvingMonthlyPayment</th>\n",
       "      <th>InquiriesLast6Months</th>\n",
       "      <th>TotalInquiries</th>\n",
       "      <th>CurrentDelinquencies</th>\n",
       "      <th>AmountDelinquent</th>\n",
       "      <th>DelinquenciesLast7Years</th>\n",
       "      <th>PublicRecordsLast10Years</th>\n",
       "      <th>PublicRecordsLast12Months</th>\n",
       "      <th>RevolvingCreditBalance</th>\n",
       "      <th>BankcardUtilization</th>\n",
       "      <th>AvailableBankcardCredit</th>\n",
       "      <th>TotalTrades</th>\n",
       "      <th>TradesNeverDelinquent (percentage)</th>\n",
       "      <th>TradesOpenedLast6Months</th>\n",
       "      <th>DebtToIncomeRatio</th>\n",
       "      <th>IncomeRange</th>\n",
       "      <th>IncomeVerifiable</th>\n",
       "      <th>StatedMonthlyIncome</th>\n",
       "      <th>LoanKey</th>\n",
       "      <th>TotalProsperLoans</th>\n",
       "      <th>TotalProsperPaymentsBilled</th>\n",
       "      <th>OnTimeProsperPayments</th>\n",
       "      <th>ProsperPaymentsLessThanOneMonthLate</th>\n",
       "      <th>ProsperPaymentsOneMonthPlusLate</th>\n",
       "      <th>ProsperPrincipalBorrowed</th>\n",
       "      <th>ProsperPrincipalOutstanding</th>\n",
       "      <th>ScorexChangeAtTimeOfListing</th>\n",
       "      <th>LoanCurrentDaysDelinquent</th>\n",
       "      <th>LoanFirstDefaultedCycleNumber</th>\n",
       "      <th>LoanMonthsSinceOrigination</th>\n",
       "      <th>LoanNumber</th>\n",
       "      <th>LoanOriginalAmount</th>\n",
       "      <th>LoanOriginationDate</th>\n",
       "      <th>LoanOriginationQuarter</th>\n",
       "      <th>MemberKey</th>\n",
       "      <th>MonthlyLoanPayment</th>\n",
       "      <th>LP_CustomerPayments</th>\n",
       "      <th>LP_CustomerPrincipalPayments</th>\n",
       "      <th>LP_InterestandFees</th>\n",
       "      <th>LP_ServiceFees</th>\n",
       "      <th>LP_CollectionFees</th>\n",
       "      <th>LP_GrossPrincipalLoss</th>\n",
       "      <th>LP_NetPrincipalLoss</th>\n",
       "      <th>LP_NonPrincipalRecoverypayments</th>\n",
       "      <th>PercentFunded</th>\n",
       "      <th>Recommendations</th>\n",
       "      <th>InvestmentFromFriendsCount</th>\n",
       "      <th>InvestmentFromFriendsAmount</th>\n",
       "      <th>Investors</th>\n",
       "    </tr>\n",
       "  </thead>\n",
       "  <tbody>\n",
       "    <tr>\n",
       "      <th>0</th>\n",
       "      <td>1021339766868145413AB3B</td>\n",
       "      <td>193129</td>\n",
       "      <td>09:29.3</td>\n",
       "      <td>C</td>\n",
       "      <td>36</td>\n",
       "      <td>Completed</td>\n",
       "      <td>8/14/2009 0:00</td>\n",
       "      <td>0.16516</td>\n",
       "      <td>0.1580</td>\n",
       "      <td>0.1380</td>\n",
       "      <td>NaN</td>\n",
       "      <td>NaN</td>\n",
       "      <td>NaN</td>\n",
       "      <td>NaN</td>\n",
       "      <td>NaN</td>\n",
       "      <td>NaN</td>\n",
       "      <td>0</td>\n",
       "      <td>CO</td>\n",
       "      <td>Other</td>\n",
       "      <td>Self-employed</td>\n",
       "      <td>2.0</td>\n",
       "      <td>True</td>\n",
       "      <td>True</td>\n",
       "      <td>NaN</td>\n",
       "      <td>41:46.8</td>\n",
       "      <td>640.0</td>\n",
       "      <td>659.0</td>\n",
       "      <td>10/11/2001 0:00</td>\n",
       "      <td>5.0</td>\n",
       "      <td>4.0</td>\n",
       "      <td>12.0</td>\n",
       "      <td>1</td>\n",
       "      <td>24</td>\n",
       "      <td>3.0</td>\n",
       "      <td>3.0</td>\n",
       "      <td>2.0</td>\n",
       "      <td>472.0</td>\n",
       "      <td>4.0</td>\n",
       "      <td>0.0</td>\n",
       "      <td>0.0</td>\n",
       "      <td>0.0</td>\n",
       "      <td>0.00</td>\n",
       "      <td>1500.0</td>\n",
       "      <td>11.0</td>\n",
       "      <td>0.81</td>\n",
       "      <td>0.0</td>\n",
       "      <td>0.17</td>\n",
       "      <td>$25,000-49,999</td>\n",
       "      <td>True</td>\n",
       "      <td>3083.333333</td>\n",
       "      <td>E33A3400205839220442E84</td>\n",
       "      <td>NaN</td>\n",
       "      <td>NaN</td>\n",
       "      <td>NaN</td>\n",
       "      <td>NaN</td>\n",
       "      <td>NaN</td>\n",
       "      <td>NaN</td>\n",
       "      <td>NaN</td>\n",
       "      <td>NaN</td>\n",
       "      <td>0</td>\n",
       "      <td>NaN</td>\n",
       "      <td>78</td>\n",
       "      <td>19141</td>\n",
       "      <td>9425</td>\n",
       "      <td>9/12/2007 0:00</td>\n",
       "      <td>Q3 2007</td>\n",
       "      <td>1F3E3376408759268057EDA</td>\n",
       "      <td>330.43</td>\n",
       "      <td>11396.14</td>\n",
       "      <td>9425.00</td>\n",
       "      <td>1971.14</td>\n",
       "      <td>-133.18</td>\n",
       "      <td>0.0</td>\n",
       "      <td>0.0</td>\n",
       "      <td>0.0</td>\n",
       "      <td>0.0</td>\n",
       "      <td>1.0</td>\n",
       "      <td>0</td>\n",
       "      <td>0</td>\n",
       "      <td>0.0</td>\n",
       "      <td>258</td>\n",
       "    </tr>\n",
       "    <tr>\n",
       "      <th>1</th>\n",
       "      <td>10273602499503308B223C1</td>\n",
       "      <td>1209647</td>\n",
       "      <td>28:07.9</td>\n",
       "      <td>NaN</td>\n",
       "      <td>36</td>\n",
       "      <td>Current</td>\n",
       "      <td>NaN</td>\n",
       "      <td>0.12016</td>\n",
       "      <td>0.0920</td>\n",
       "      <td>0.0820</td>\n",
       "      <td>0.07960</td>\n",
       "      <td>0.0249</td>\n",
       "      <td>0.05470</td>\n",
       "      <td>6.0</td>\n",
       "      <td>A</td>\n",
       "      <td>7.0</td>\n",
       "      <td>2</td>\n",
       "      <td>CO</td>\n",
       "      <td>Professional</td>\n",
       "      <td>Employed</td>\n",
       "      <td>44.0</td>\n",
       "      <td>False</td>\n",
       "      <td>False</td>\n",
       "      <td>NaN</td>\n",
       "      <td>2/27/2014 8:28</td>\n",
       "      <td>680.0</td>\n",
       "      <td>699.0</td>\n",
       "      <td>3/18/1996 0:00</td>\n",
       "      <td>14.0</td>\n",
       "      <td>14.0</td>\n",
       "      <td>29.0</td>\n",
       "      <td>13</td>\n",
       "      <td>389</td>\n",
       "      <td>3.0</td>\n",
       "      <td>5.0</td>\n",
       "      <td>0.0</td>\n",
       "      <td>0.0</td>\n",
       "      <td>0.0</td>\n",
       "      <td>1.0</td>\n",
       "      <td>0.0</td>\n",
       "      <td>3989.0</td>\n",
       "      <td>0.21</td>\n",
       "      <td>10266.0</td>\n",
       "      <td>29.0</td>\n",
       "      <td>1.00</td>\n",
       "      <td>2.0</td>\n",
       "      <td>0.18</td>\n",
       "      <td>$50,000-74,999</td>\n",
       "      <td>True</td>\n",
       "      <td>6125.000000</td>\n",
       "      <td>9E3B37071505919926B1D82</td>\n",
       "      <td>NaN</td>\n",
       "      <td>NaN</td>\n",
       "      <td>NaN</td>\n",
       "      <td>NaN</td>\n",
       "      <td>NaN</td>\n",
       "      <td>NaN</td>\n",
       "      <td>NaN</td>\n",
       "      <td>NaN</td>\n",
       "      <td>0</td>\n",
       "      <td>NaN</td>\n",
       "      <td>0</td>\n",
       "      <td>134815</td>\n",
       "      <td>10000</td>\n",
       "      <td>3/3/2014 0:00</td>\n",
       "      <td>Q1 2014</td>\n",
       "      <td>1D13370546739025387B2F4</td>\n",
       "      <td>318.93</td>\n",
       "      <td>0.00</td>\n",
       "      <td>0.00</td>\n",
       "      <td>0.00</td>\n",
       "      <td>0.00</td>\n",
       "      <td>0.0</td>\n",
       "      <td>0.0</td>\n",
       "      <td>0.0</td>\n",
       "      <td>0.0</td>\n",
       "      <td>1.0</td>\n",
       "      <td>0</td>\n",
       "      <td>0</td>\n",
       "      <td>0.0</td>\n",
       "      <td>1</td>\n",
       "    </tr>\n",
       "    <tr>\n",
       "      <th>2</th>\n",
       "      <td>0EE9337825851032864889A</td>\n",
       "      <td>81716</td>\n",
       "      <td>00:47.1</td>\n",
       "      <td>HR</td>\n",
       "      <td>36</td>\n",
       "      <td>Completed</td>\n",
       "      <td>12/17/2009 0:00</td>\n",
       "      <td>0.28269</td>\n",
       "      <td>0.2750</td>\n",
       "      <td>0.2400</td>\n",
       "      <td>NaN</td>\n",
       "      <td>NaN</td>\n",
       "      <td>NaN</td>\n",
       "      <td>NaN</td>\n",
       "      <td>NaN</td>\n",
       "      <td>NaN</td>\n",
       "      <td>0</td>\n",
       "      <td>GA</td>\n",
       "      <td>Other</td>\n",
       "      <td>Not available</td>\n",
       "      <td>NaN</td>\n",
       "      <td>False</td>\n",
       "      <td>True</td>\n",
       "      <td>783C3371218786870A73D20</td>\n",
       "      <td>09:10.1</td>\n",
       "      <td>480.0</td>\n",
       "      <td>499.0</td>\n",
       "      <td>7/27/2002 0:00</td>\n",
       "      <td>NaN</td>\n",
       "      <td>NaN</td>\n",
       "      <td>3.0</td>\n",
       "      <td>0</td>\n",
       "      <td>0</td>\n",
       "      <td>0.0</td>\n",
       "      <td>1.0</td>\n",
       "      <td>1.0</td>\n",
       "      <td>NaN</td>\n",
       "      <td>0.0</td>\n",
       "      <td>0.0</td>\n",
       "      <td>NaN</td>\n",
       "      <td>NaN</td>\n",
       "      <td>NaN</td>\n",
       "      <td>NaN</td>\n",
       "      <td>NaN</td>\n",
       "      <td>NaN</td>\n",
       "      <td>NaN</td>\n",
       "      <td>0.06</td>\n",
       "      <td>Not displayed</td>\n",
       "      <td>True</td>\n",
       "      <td>2083.333333</td>\n",
       "      <td>6954337960046817851BCB2</td>\n",
       "      <td>NaN</td>\n",
       "      <td>NaN</td>\n",
       "      <td>NaN</td>\n",
       "      <td>NaN</td>\n",
       "      <td>NaN</td>\n",
       "      <td>NaN</td>\n",
       "      <td>NaN</td>\n",
       "      <td>NaN</td>\n",
       "      <td>0</td>\n",
       "      <td>NaN</td>\n",
       "      <td>86</td>\n",
       "      <td>6466</td>\n",
       "      <td>3001</td>\n",
       "      <td>1/17/2007 0:00</td>\n",
       "      <td>Q1 2007</td>\n",
       "      <td>5F7033715035555618FA612</td>\n",
       "      <td>123.32</td>\n",
       "      <td>4186.63</td>\n",
       "      <td>3001.00</td>\n",
       "      <td>1185.63</td>\n",
       "      <td>-24.20</td>\n",
       "      <td>0.0</td>\n",
       "      <td>0.0</td>\n",
       "      <td>0.0</td>\n",
       "      <td>0.0</td>\n",
       "      <td>1.0</td>\n",
       "      <td>0</td>\n",
       "      <td>0</td>\n",
       "      <td>0.0</td>\n",
       "      <td>41</td>\n",
       "    </tr>\n",
       "    <tr>\n",
       "      <th>3</th>\n",
       "      <td>0EF5356002482715299901A</td>\n",
       "      <td>658116</td>\n",
       "      <td>02:35.0</td>\n",
       "      <td>NaN</td>\n",
       "      <td>36</td>\n",
       "      <td>Current</td>\n",
       "      <td>NaN</td>\n",
       "      <td>0.12528</td>\n",
       "      <td>0.0974</td>\n",
       "      <td>0.0874</td>\n",
       "      <td>0.08490</td>\n",
       "      <td>0.0249</td>\n",
       "      <td>0.06000</td>\n",
       "      <td>6.0</td>\n",
       "      <td>A</td>\n",
       "      <td>9.0</td>\n",
       "      <td>16</td>\n",
       "      <td>GA</td>\n",
       "      <td>Skilled Labor</td>\n",
       "      <td>Employed</td>\n",
       "      <td>113.0</td>\n",
       "      <td>True</td>\n",
       "      <td>False</td>\n",
       "      <td>NaN</td>\n",
       "      <td>10/22/2012 11:02</td>\n",
       "      <td>800.0</td>\n",
       "      <td>819.0</td>\n",
       "      <td>2/28/1983 0:00</td>\n",
       "      <td>5.0</td>\n",
       "      <td>5.0</td>\n",
       "      <td>29.0</td>\n",
       "      <td>7</td>\n",
       "      <td>115</td>\n",
       "      <td>0.0</td>\n",
       "      <td>1.0</td>\n",
       "      <td>4.0</td>\n",
       "      <td>10056.0</td>\n",
       "      <td>14.0</td>\n",
       "      <td>0.0</td>\n",
       "      <td>0.0</td>\n",
       "      <td>1444.0</td>\n",
       "      <td>0.04</td>\n",
       "      <td>30754.0</td>\n",
       "      <td>26.0</td>\n",
       "      <td>0.76</td>\n",
       "      <td>0.0</td>\n",
       "      <td>0.15</td>\n",
       "      <td>$25,000-49,999</td>\n",
       "      <td>True</td>\n",
       "      <td>2875.000000</td>\n",
       "      <td>A0393664465886295619C51</td>\n",
       "      <td>NaN</td>\n",
       "      <td>NaN</td>\n",
       "      <td>NaN</td>\n",
       "      <td>NaN</td>\n",
       "      <td>NaN</td>\n",
       "      <td>NaN</td>\n",
       "      <td>NaN</td>\n",
       "      <td>NaN</td>\n",
       "      <td>0</td>\n",
       "      <td>NaN</td>\n",
       "      <td>16</td>\n",
       "      <td>77296</td>\n",
       "      <td>10000</td>\n",
       "      <td>11/1/2012 0:00</td>\n",
       "      <td>Q4 2012</td>\n",
       "      <td>9ADE356069835475068C6D2</td>\n",
       "      <td>321.45</td>\n",
       "      <td>5143.20</td>\n",
       "      <td>4091.09</td>\n",
       "      <td>1052.11</td>\n",
       "      <td>-108.01</td>\n",
       "      <td>0.0</td>\n",
       "      <td>0.0</td>\n",
       "      <td>0.0</td>\n",
       "      <td>0.0</td>\n",
       "      <td>1.0</td>\n",
       "      <td>0</td>\n",
       "      <td>0</td>\n",
       "      <td>0.0</td>\n",
       "      <td>158</td>\n",
       "    </tr>\n",
       "    <tr>\n",
       "      <th>4</th>\n",
       "      <td>0F023589499656230C5E3E2</td>\n",
       "      <td>909464</td>\n",
       "      <td>38:39.1</td>\n",
       "      <td>NaN</td>\n",
       "      <td>36</td>\n",
       "      <td>Current</td>\n",
       "      <td>NaN</td>\n",
       "      <td>0.24614</td>\n",
       "      <td>0.2085</td>\n",
       "      <td>0.1985</td>\n",
       "      <td>0.18316</td>\n",
       "      <td>0.0925</td>\n",
       "      <td>0.09066</td>\n",
       "      <td>3.0</td>\n",
       "      <td>D</td>\n",
       "      <td>4.0</td>\n",
       "      <td>2</td>\n",
       "      <td>MN</td>\n",
       "      <td>Executive</td>\n",
       "      <td>Employed</td>\n",
       "      <td>44.0</td>\n",
       "      <td>True</td>\n",
       "      <td>False</td>\n",
       "      <td>NaN</td>\n",
       "      <td>9/14/2013 18:38</td>\n",
       "      <td>680.0</td>\n",
       "      <td>699.0</td>\n",
       "      <td>2/20/2004 0:00</td>\n",
       "      <td>19.0</td>\n",
       "      <td>19.0</td>\n",
       "      <td>49.0</td>\n",
       "      <td>6</td>\n",
       "      <td>220</td>\n",
       "      <td>1.0</td>\n",
       "      <td>9.0</td>\n",
       "      <td>0.0</td>\n",
       "      <td>0.0</td>\n",
       "      <td>0.0</td>\n",
       "      <td>0.0</td>\n",
       "      <td>0.0</td>\n",
       "      <td>6193.0</td>\n",
       "      <td>0.81</td>\n",
       "      <td>695.0</td>\n",
       "      <td>39.0</td>\n",
       "      <td>0.95</td>\n",
       "      <td>2.0</td>\n",
       "      <td>0.26</td>\n",
       "      <td>$100,000+</td>\n",
       "      <td>True</td>\n",
       "      <td>9583.333333</td>\n",
       "      <td>A180369302188889200689E</td>\n",
       "      <td>1.0</td>\n",
       "      <td>11.0</td>\n",
       "      <td>11.0</td>\n",
       "      <td>0.0</td>\n",
       "      <td>0.0</td>\n",
       "      <td>11000.0</td>\n",
       "      <td>9947.9</td>\n",
       "      <td>NaN</td>\n",
       "      <td>0</td>\n",
       "      <td>NaN</td>\n",
       "      <td>6</td>\n",
       "      <td>102670</td>\n",
       "      <td>15000</td>\n",
       "      <td>9/20/2013 0:00</td>\n",
       "      <td>Q3 2013</td>\n",
       "      <td>36CE356043264555721F06C</td>\n",
       "      <td>563.97</td>\n",
       "      <td>2819.85</td>\n",
       "      <td>1563.22</td>\n",
       "      <td>1256.63</td>\n",
       "      <td>-60.27</td>\n",
       "      <td>0.0</td>\n",
       "      <td>0.0</td>\n",
       "      <td>0.0</td>\n",
       "      <td>0.0</td>\n",
       "      <td>1.0</td>\n",
       "      <td>0</td>\n",
       "      <td>0</td>\n",
       "      <td>0.0</td>\n",
       "      <td>20</td>\n",
       "    </tr>\n",
       "  </tbody>\n",
       "</table>\n",
       "</div>"
      ],
      "text/plain": [
       "                ListingKey  ListingNumber ListingCreationDate CreditGrade  Term LoanStatus       ClosedDate  BorrowerAPR  BorrowerRate  LenderYield  EstimatedEffectiveYield  EstimatedLoss  EstimatedReturn  ProsperRating (numeric) ProsperRating (Alpha)  ProsperScore  ListingCategory (numeric) BorrowerState  \\\n",
       "0  1021339766868145413AB3B         193129             09:29.3           C    36  Completed   8/14/2009 0:00      0.16516        0.1580       0.1380                      NaN            NaN              NaN                      NaN                   NaN           NaN                          0            CO   \n",
       "1  10273602499503308B223C1        1209647             28:07.9         NaN    36    Current              NaN      0.12016        0.0920       0.0820                  0.07960         0.0249          0.05470                      6.0                     A           7.0                          2            CO   \n",
       "2  0EE9337825851032864889A          81716             00:47.1          HR    36  Completed  12/17/2009 0:00      0.28269        0.2750       0.2400                      NaN            NaN              NaN                      NaN                   NaN           NaN                          0            GA   \n",
       "3  0EF5356002482715299901A         658116             02:35.0         NaN    36    Current              NaN      0.12528        0.0974       0.0874                  0.08490         0.0249          0.06000                      6.0                     A           9.0                         16            GA   \n",
       "4  0F023589499656230C5E3E2         909464             38:39.1         NaN    36    Current              NaN      0.24614        0.2085       0.1985                  0.18316         0.0925          0.09066                      3.0                     D           4.0                          2            MN   \n",
       "\n",
       "      Occupation EmploymentStatus  EmploymentStatusDuration  IsBorrowerHomeowner  CurrentlyInGroup                 GroupKey  DateCreditPulled  CreditScoreRangeLower  CreditScoreRangeUpper FirstRecordedCreditLine  CurrentCreditLines  OpenCreditLines  TotalCreditLinespast7years  OpenRevolvingAccounts  \\\n",
       "0          Other    Self-employed                       2.0                 True              True                      NaN           41:46.8                  640.0                  659.0         10/11/2001 0:00                 5.0              4.0                        12.0                      1   \n",
       "1   Professional         Employed                      44.0                False             False                      NaN    2/27/2014 8:28                  680.0                  699.0          3/18/1996 0:00                14.0             14.0                        29.0                     13   \n",
       "2          Other    Not available                       NaN                False              True  783C3371218786870A73D20           09:10.1                  480.0                  499.0          7/27/2002 0:00                 NaN              NaN                         3.0                      0   \n",
       "3  Skilled Labor         Employed                     113.0                 True             False                      NaN  10/22/2012 11:02                  800.0                  819.0          2/28/1983 0:00                 5.0              5.0                        29.0                      7   \n",
       "4      Executive         Employed                      44.0                 True             False                      NaN   9/14/2013 18:38                  680.0                  699.0          2/20/2004 0:00                19.0             19.0                        49.0                      6   \n",
       "\n",
       "   OpenRevolvingMonthlyPayment  InquiriesLast6Months  TotalInquiries  CurrentDelinquencies  AmountDelinquent  DelinquenciesLast7Years  PublicRecordsLast10Years  PublicRecordsLast12Months  RevolvingCreditBalance  BankcardUtilization  AvailableBankcardCredit  TotalTrades  TradesNeverDelinquent (percentage)  \\\n",
       "0                           24                   3.0             3.0                   2.0             472.0                      4.0                       0.0                        0.0                     0.0                 0.00                   1500.0         11.0                                0.81   \n",
       "1                          389                   3.0             5.0                   0.0               0.0                      0.0                       1.0                        0.0                  3989.0                 0.21                  10266.0         29.0                                1.00   \n",
       "2                            0                   0.0             1.0                   1.0               NaN                      0.0                       0.0                        NaN                     NaN                  NaN                      NaN          NaN                                 NaN   \n",
       "3                          115                   0.0             1.0                   4.0           10056.0                     14.0                       0.0                        0.0                  1444.0                 0.04                  30754.0         26.0                                0.76   \n",
       "4                          220                   1.0             9.0                   0.0               0.0                      0.0                       0.0                        0.0                  6193.0                 0.81                    695.0         39.0                                0.95   \n",
       "\n",
       "   TradesOpenedLast6Months  DebtToIncomeRatio     IncomeRange  IncomeVerifiable  StatedMonthlyIncome                  LoanKey  TotalProsperLoans  TotalProsperPaymentsBilled  OnTimeProsperPayments  ProsperPaymentsLessThanOneMonthLate  ProsperPaymentsOneMonthPlusLate  ProsperPrincipalBorrowed  \\\n",
       "0                      0.0               0.17  $25,000-49,999              True          3083.333333  E33A3400205839220442E84                NaN                         NaN                    NaN                                  NaN                              NaN                       NaN   \n",
       "1                      2.0               0.18  $50,000-74,999              True          6125.000000  9E3B37071505919926B1D82                NaN                         NaN                    NaN                                  NaN                              NaN                       NaN   \n",
       "2                      NaN               0.06   Not displayed              True          2083.333333  6954337960046817851BCB2                NaN                         NaN                    NaN                                  NaN                              NaN                       NaN   \n",
       "3                      0.0               0.15  $25,000-49,999              True          2875.000000  A0393664465886295619C51                NaN                         NaN                    NaN                                  NaN                              NaN                       NaN   \n",
       "4                      2.0               0.26       $100,000+              True          9583.333333  A180369302188889200689E                1.0                        11.0                   11.0                                  0.0                              0.0                   11000.0   \n",
       "\n",
       "   ProsperPrincipalOutstanding  ScorexChangeAtTimeOfListing  LoanCurrentDaysDelinquent  LoanFirstDefaultedCycleNumber  LoanMonthsSinceOrigination  LoanNumber  LoanOriginalAmount LoanOriginationDate LoanOriginationQuarter                MemberKey  MonthlyLoanPayment  LP_CustomerPayments  LP_CustomerPrincipalPayments  \\\n",
       "0                          NaN                          NaN                          0                            NaN                          78       19141                9425      9/12/2007 0:00                Q3 2007  1F3E3376408759268057EDA              330.43             11396.14                       9425.00   \n",
       "1                          NaN                          NaN                          0                            NaN                           0      134815               10000       3/3/2014 0:00                Q1 2014  1D13370546739025387B2F4              318.93                 0.00                          0.00   \n",
       "2                          NaN                          NaN                          0                            NaN                          86        6466                3001      1/17/2007 0:00                Q1 2007  5F7033715035555618FA612              123.32              4186.63                       3001.00   \n",
       "3                          NaN                          NaN                          0                            NaN                          16       77296               10000      11/1/2012 0:00                Q4 2012  9ADE356069835475068C6D2              321.45              5143.20                       4091.09   \n",
       "4                       9947.9                          NaN                          0                            NaN                           6      102670               15000      9/20/2013 0:00                Q3 2013  36CE356043264555721F06C              563.97              2819.85                       1563.22   \n",
       "\n",
       "   LP_InterestandFees  LP_ServiceFees  LP_CollectionFees  LP_GrossPrincipalLoss  LP_NetPrincipalLoss  LP_NonPrincipalRecoverypayments  PercentFunded  Recommendations  InvestmentFromFriendsCount  InvestmentFromFriendsAmount  Investors  \n",
       "0             1971.14         -133.18                0.0                    0.0                  0.0                              0.0            1.0                0                           0                          0.0        258  \n",
       "1                0.00            0.00                0.0                    0.0                  0.0                              0.0            1.0                0                           0                          0.0          1  \n",
       "2             1185.63          -24.20                0.0                    0.0                  0.0                              0.0            1.0                0                           0                          0.0         41  \n",
       "3             1052.11         -108.01                0.0                    0.0                  0.0                              0.0            1.0                0                           0                          0.0        158  \n",
       "4             1256.63          -60.27                0.0                    0.0                  0.0                              0.0            1.0                0                           0                          0.0         20  "
      ]
     },
     "execution_count": 2,
     "metadata": {},
     "output_type": "execute_result"
    }
   ],
   "source": [
    "desired_width = 320\n",
    "pd.set_option('display.width', desired_width)\n",
    "pd.set_option('display.max_columns', 81)\n",
    "\n",
    "\n",
    "loans = pd.read_csv('prosperLoanData.csv')\n",
    "loans.head()"
   ]
  },
  {
   "cell_type": "code",
   "execution_count": 3,
   "metadata": {},
   "outputs": [
    {
     "data": {
      "text/plain": [
       "(113937, 81)"
      ]
     },
     "execution_count": 3,
     "metadata": {},
     "output_type": "execute_result"
    }
   ],
   "source": [
    "# Identifying the no. of columns & rows.\n",
    "loans.shape"
   ]
  },
  {
   "cell_type": "code",
   "execution_count": 4,
   "metadata": {},
   "outputs": [
    {
     "name": "stdout",
     "output_type": "stream",
     "text": [
      "<class 'pandas.core.frame.DataFrame'>\n",
      "RangeIndex: 113937 entries, 0 to 113936\n",
      "Data columns (total 81 columns):\n",
      "ListingKey                             113937 non-null object\n",
      "ListingNumber                          113937 non-null int64\n",
      "ListingCreationDate                    113937 non-null object\n",
      "CreditGrade                            28953 non-null object\n",
      "Term                                   113937 non-null int64\n",
      "LoanStatus                             113937 non-null object\n",
      "ClosedDate                             55089 non-null object\n",
      "BorrowerAPR                            113912 non-null float64\n",
      "BorrowerRate                           113937 non-null float64\n",
      "LenderYield                            113937 non-null float64\n",
      "EstimatedEffectiveYield                84853 non-null float64\n",
      "EstimatedLoss                          84853 non-null float64\n",
      "EstimatedReturn                        84853 non-null float64\n",
      "ProsperRating (numeric)                84853 non-null float64\n",
      "ProsperRating (Alpha)                  84853 non-null object\n",
      "ProsperScore                           84853 non-null float64\n",
      "ListingCategory (numeric)              113937 non-null int64\n",
      "BorrowerState                          108422 non-null object\n",
      "Occupation                             110349 non-null object\n",
      "EmploymentStatus                       111682 non-null object\n",
      "EmploymentStatusDuration               106312 non-null float64\n",
      "IsBorrowerHomeowner                    113937 non-null bool\n",
      "CurrentlyInGroup                       113937 non-null bool\n",
      "GroupKey                               13341 non-null object\n",
      "DateCreditPulled                       113937 non-null object\n",
      "CreditScoreRangeLower                  113346 non-null float64\n",
      "CreditScoreRangeUpper                  113346 non-null float64\n",
      "FirstRecordedCreditLine                113240 non-null object\n",
      "CurrentCreditLines                     106333 non-null float64\n",
      "OpenCreditLines                        106333 non-null float64\n",
      "TotalCreditLinespast7years             113240 non-null float64\n",
      "OpenRevolvingAccounts                  113937 non-null int64\n",
      "OpenRevolvingMonthlyPayment            113937 non-null int64\n",
      "InquiriesLast6Months                   113240 non-null float64\n",
      "TotalInquiries                         112778 non-null float64\n",
      "CurrentDelinquencies                   113240 non-null float64\n",
      "AmountDelinquent                       106315 non-null float64\n",
      "DelinquenciesLast7Years                112947 non-null float64\n",
      "PublicRecordsLast10Years               113240 non-null float64\n",
      "PublicRecordsLast12Months              106333 non-null float64\n",
      "RevolvingCreditBalance                 106333 non-null float64\n",
      "BankcardUtilization                    106333 non-null float64\n",
      "AvailableBankcardCredit                106393 non-null float64\n",
      "TotalTrades                            106393 non-null float64\n",
      "TradesNeverDelinquent (percentage)     106393 non-null float64\n",
      "TradesOpenedLast6Months                106393 non-null float64\n",
      "DebtToIncomeRatio                      105383 non-null float64\n",
      "IncomeRange                            113937 non-null object\n",
      "IncomeVerifiable                       113937 non-null bool\n",
      "StatedMonthlyIncome                    113937 non-null float64\n",
      "LoanKey                                113937 non-null object\n",
      "TotalProsperLoans                      22085 non-null float64\n",
      "TotalProsperPaymentsBilled             22085 non-null float64\n",
      "OnTimeProsperPayments                  22085 non-null float64\n",
      "ProsperPaymentsLessThanOneMonthLate    22085 non-null float64\n",
      "ProsperPaymentsOneMonthPlusLate        22085 non-null float64\n",
      "ProsperPrincipalBorrowed               22085 non-null float64\n",
      "ProsperPrincipalOutstanding            22085 non-null float64\n",
      "ScorexChangeAtTimeOfListing            18928 non-null float64\n",
      "LoanCurrentDaysDelinquent              113937 non-null int64\n",
      "LoanFirstDefaultedCycleNumber          16952 non-null float64\n",
      "LoanMonthsSinceOrigination             113937 non-null int64\n",
      "LoanNumber                             113937 non-null int64\n",
      "LoanOriginalAmount                     113937 non-null int64\n",
      "LoanOriginationDate                    113937 non-null object\n",
      "LoanOriginationQuarter                 113937 non-null object\n",
      "MemberKey                              113937 non-null object\n",
      "MonthlyLoanPayment                     113937 non-null float64\n",
      "LP_CustomerPayments                    113937 non-null float64\n",
      "LP_CustomerPrincipalPayments           113937 non-null float64\n",
      "LP_InterestandFees                     113937 non-null float64\n",
      "LP_ServiceFees                         113937 non-null float64\n",
      "LP_CollectionFees                      113937 non-null float64\n",
      "LP_GrossPrincipalLoss                  113937 non-null float64\n",
      "LP_NetPrincipalLoss                    113937 non-null float64\n",
      "LP_NonPrincipalRecoverypayments        113937 non-null float64\n",
      "PercentFunded                          113937 non-null float64\n",
      "Recommendations                        113937 non-null int64\n",
      "InvestmentFromFriendsCount             113937 non-null int64\n",
      "InvestmentFromFriendsAmount            113937 non-null float64\n",
      "Investors                              113937 non-null int64\n",
      "dtypes: bool(3), float64(49), int64(12), object(17)\n",
      "memory usage: 68.1+ MB\n"
     ]
    }
   ],
   "source": [
    "# Checking the number of rows in each variable & the type of these variables.\n",
    "loans.info()"
   ]
  },
  {
   "cell_type": "code",
   "execution_count": 5,
   "metadata": {},
   "outputs": [
    {
     "data": {
      "text/plain": [
       "{'CreditGrade': 84984,\n",
       " 'ClosedDate': 58848,\n",
       " 'BorrowerAPR': 25,\n",
       " 'EstimatedEffectiveYield': 29084,\n",
       " 'EstimatedLoss': 29084,\n",
       " 'EstimatedReturn': 29084,\n",
       " 'ProsperRating (numeric)': 29084,\n",
       " 'ProsperRating (Alpha)': 29084,\n",
       " 'ProsperScore': 29084,\n",
       " 'BorrowerState': 5515,\n",
       " 'Occupation': 3588,\n",
       " 'EmploymentStatus': 2255,\n",
       " 'EmploymentStatusDuration': 7625,\n",
       " 'GroupKey': 100596,\n",
       " 'CreditScoreRangeLower': 591,\n",
       " 'CreditScoreRangeUpper': 591,\n",
       " 'FirstRecordedCreditLine': 697,\n",
       " 'CurrentCreditLines': 7604,\n",
       " 'OpenCreditLines': 7604,\n",
       " 'TotalCreditLinespast7years': 697,\n",
       " 'InquiriesLast6Months': 697,\n",
       " 'TotalInquiries': 1159,\n",
       " 'CurrentDelinquencies': 697,\n",
       " 'AmountDelinquent': 7622,\n",
       " 'DelinquenciesLast7Years': 990,\n",
       " 'PublicRecordsLast10Years': 697,\n",
       " 'PublicRecordsLast12Months': 7604,\n",
       " 'RevolvingCreditBalance': 7604,\n",
       " 'BankcardUtilization': 7604,\n",
       " 'AvailableBankcardCredit': 7544,\n",
       " 'TotalTrades': 7544,\n",
       " 'TradesNeverDelinquent (percentage)': 7544,\n",
       " 'TradesOpenedLast6Months': 7544,\n",
       " 'DebtToIncomeRatio': 8554,\n",
       " 'TotalProsperLoans': 91852,\n",
       " 'TotalProsperPaymentsBilled': 91852,\n",
       " 'OnTimeProsperPayments': 91852,\n",
       " 'ProsperPaymentsLessThanOneMonthLate': 91852,\n",
       " 'ProsperPaymentsOneMonthPlusLate': 91852,\n",
       " 'ProsperPrincipalBorrowed': 91852,\n",
       " 'ProsperPrincipalOutstanding': 91852,\n",
       " 'ScorexChangeAtTimeOfListing': 95009,\n",
       " 'LoanFirstDefaultedCycleNumber': 96985}"
      ]
     },
     "execution_count": 5,
     "metadata": {},
     "output_type": "execute_result"
    }
   ],
   "source": [
    "# Executing a for loop in order to extract variables with null rows and storing the results in a variable called 'columns'\n",
    "column_with_nan = loans.columns[loans.isnull().any()]\n",
    "columns = {}\n",
    "for column in column_with_nan:\n",
    "    columns[column] = loans[column].isnull().sum()\n",
    "\n",
    "columns"
   ]
  },
  {
   "cell_type": "code",
   "execution_count": 6,
   "metadata": {},
   "outputs": [
    {
     "data": {
      "text/html": [
       "<div>\n",
       "<style scoped>\n",
       "    .dataframe tbody tr th:only-of-type {\n",
       "        vertical-align: middle;\n",
       "    }\n",
       "\n",
       "    .dataframe tbody tr th {\n",
       "        vertical-align: top;\n",
       "    }\n",
       "\n",
       "    .dataframe thead th {\n",
       "        text-align: right;\n",
       "    }\n",
       "</style>\n",
       "<table border=\"1\" class=\"dataframe\">\n",
       "  <thead>\n",
       "    <tr style=\"text-align: right;\">\n",
       "      <th></th>\n",
       "      <th>ListingKey</th>\n",
       "      <th>Term</th>\n",
       "      <th>LoanStatus</th>\n",
       "      <th>BorrowerAPR</th>\n",
       "      <th>BorrowerRate</th>\n",
       "      <th>LenderYield</th>\n",
       "      <th>EstimatedEffectiveYield</th>\n",
       "      <th>EstimatedLoss</th>\n",
       "      <th>EstimatedReturn</th>\n",
       "      <th>ProsperScore</th>\n",
       "      <th>ListingCategory (numeric)</th>\n",
       "      <th>EmploymentStatus</th>\n",
       "      <th>IncomeRange</th>\n",
       "      <th>IncomeVerifiable</th>\n",
       "      <th>StatedMonthlyIncome</th>\n",
       "      <th>LoanCurrentDaysDelinquent</th>\n",
       "      <th>LoanOriginalAmount</th>\n",
       "      <th>LoanOriginationQuarter</th>\n",
       "      <th>MonthlyLoanPayment</th>\n",
       "      <th>Investors</th>\n",
       "    </tr>\n",
       "  </thead>\n",
       "  <tbody>\n",
       "    <tr>\n",
       "      <th>0</th>\n",
       "      <td>1021339766868145413AB3B</td>\n",
       "      <td>36</td>\n",
       "      <td>Completed</td>\n",
       "      <td>0.16516</td>\n",
       "      <td>0.1580</td>\n",
       "      <td>0.1380</td>\n",
       "      <td>NaN</td>\n",
       "      <td>NaN</td>\n",
       "      <td>NaN</td>\n",
       "      <td>NaN</td>\n",
       "      <td>0</td>\n",
       "      <td>Self-employed</td>\n",
       "      <td>$25,000-49,999</td>\n",
       "      <td>True</td>\n",
       "      <td>3083.333333</td>\n",
       "      <td>0</td>\n",
       "      <td>9425</td>\n",
       "      <td>Q3 2007</td>\n",
       "      <td>330.43</td>\n",
       "      <td>258</td>\n",
       "    </tr>\n",
       "    <tr>\n",
       "      <th>1</th>\n",
       "      <td>10273602499503308B223C1</td>\n",
       "      <td>36</td>\n",
       "      <td>Current</td>\n",
       "      <td>0.12016</td>\n",
       "      <td>0.0920</td>\n",
       "      <td>0.0820</td>\n",
       "      <td>0.07960</td>\n",
       "      <td>0.0249</td>\n",
       "      <td>0.05470</td>\n",
       "      <td>7.0</td>\n",
       "      <td>2</td>\n",
       "      <td>Employed</td>\n",
       "      <td>$50,000-74,999</td>\n",
       "      <td>True</td>\n",
       "      <td>6125.000000</td>\n",
       "      <td>0</td>\n",
       "      <td>10000</td>\n",
       "      <td>Q1 2014</td>\n",
       "      <td>318.93</td>\n",
       "      <td>1</td>\n",
       "    </tr>\n",
       "    <tr>\n",
       "      <th>2</th>\n",
       "      <td>0EE9337825851032864889A</td>\n",
       "      <td>36</td>\n",
       "      <td>Completed</td>\n",
       "      <td>0.28269</td>\n",
       "      <td>0.2750</td>\n",
       "      <td>0.2400</td>\n",
       "      <td>NaN</td>\n",
       "      <td>NaN</td>\n",
       "      <td>NaN</td>\n",
       "      <td>NaN</td>\n",
       "      <td>0</td>\n",
       "      <td>Not available</td>\n",
       "      <td>Not displayed</td>\n",
       "      <td>True</td>\n",
       "      <td>2083.333333</td>\n",
       "      <td>0</td>\n",
       "      <td>3001</td>\n",
       "      <td>Q1 2007</td>\n",
       "      <td>123.32</td>\n",
       "      <td>41</td>\n",
       "    </tr>\n",
       "    <tr>\n",
       "      <th>3</th>\n",
       "      <td>0EF5356002482715299901A</td>\n",
       "      <td>36</td>\n",
       "      <td>Current</td>\n",
       "      <td>0.12528</td>\n",
       "      <td>0.0974</td>\n",
       "      <td>0.0874</td>\n",
       "      <td>0.08490</td>\n",
       "      <td>0.0249</td>\n",
       "      <td>0.06000</td>\n",
       "      <td>9.0</td>\n",
       "      <td>16</td>\n",
       "      <td>Employed</td>\n",
       "      <td>$25,000-49,999</td>\n",
       "      <td>True</td>\n",
       "      <td>2875.000000</td>\n",
       "      <td>0</td>\n",
       "      <td>10000</td>\n",
       "      <td>Q4 2012</td>\n",
       "      <td>321.45</td>\n",
       "      <td>158</td>\n",
       "    </tr>\n",
       "    <tr>\n",
       "      <th>4</th>\n",
       "      <td>0F023589499656230C5E3E2</td>\n",
       "      <td>36</td>\n",
       "      <td>Current</td>\n",
       "      <td>0.24614</td>\n",
       "      <td>0.2085</td>\n",
       "      <td>0.1985</td>\n",
       "      <td>0.18316</td>\n",
       "      <td>0.0925</td>\n",
       "      <td>0.09066</td>\n",
       "      <td>4.0</td>\n",
       "      <td>2</td>\n",
       "      <td>Employed</td>\n",
       "      <td>$100,000+</td>\n",
       "      <td>True</td>\n",
       "      <td>9583.333333</td>\n",
       "      <td>0</td>\n",
       "      <td>15000</td>\n",
       "      <td>Q3 2013</td>\n",
       "      <td>563.97</td>\n",
       "      <td>20</td>\n",
       "    </tr>\n",
       "  </tbody>\n",
       "</table>\n",
       "</div>"
      ],
      "text/plain": [
       "                ListingKey  Term LoanStatus  BorrowerAPR  BorrowerRate  LenderYield  EstimatedEffectiveYield  EstimatedLoss  EstimatedReturn  ProsperScore  ListingCategory (numeric) EmploymentStatus     IncomeRange  IncomeVerifiable  StatedMonthlyIncome  LoanCurrentDaysDelinquent  LoanOriginalAmount  \\\n",
       "0  1021339766868145413AB3B    36  Completed      0.16516        0.1580       0.1380                      NaN            NaN              NaN           NaN                          0    Self-employed  $25,000-49,999              True          3083.333333                          0                9425   \n",
       "1  10273602499503308B223C1    36    Current      0.12016        0.0920       0.0820                  0.07960         0.0249          0.05470           7.0                          2         Employed  $50,000-74,999              True          6125.000000                          0               10000   \n",
       "2  0EE9337825851032864889A    36  Completed      0.28269        0.2750       0.2400                      NaN            NaN              NaN           NaN                          0    Not available   Not displayed              True          2083.333333                          0                3001   \n",
       "3  0EF5356002482715299901A    36    Current      0.12528        0.0974       0.0874                  0.08490         0.0249          0.06000           9.0                         16         Employed  $25,000-49,999              True          2875.000000                          0               10000   \n",
       "4  0F023589499656230C5E3E2    36    Current      0.24614        0.2085       0.1985                  0.18316         0.0925          0.09066           4.0                          2         Employed       $100,000+              True          9583.333333                          0               15000   \n",
       "\n",
       "  LoanOriginationQuarter  MonthlyLoanPayment  Investors  \n",
       "0                Q3 2007              330.43        258  \n",
       "1                Q1 2014              318.93          1  \n",
       "2                Q1 2007              123.32         41  \n",
       "3                Q4 2012              321.45        158  \n",
       "4                Q3 2013              563.97         20  "
      ]
     },
     "execution_count": 6,
     "metadata": {},
     "output_type": "execute_result"
    }
   ],
   "source": [
    "# Creating a new dataset with the desired variables with least null values.\n",
    "loans_edited = loans[['ListingKey', 'Term', 'LoanStatus', 'BorrowerAPR', 'BorrowerRate', 'LenderYield', 'EstimatedEffectiveYield', 'EstimatedLoss', 'EstimatedReturn', 'ProsperScore', 'ListingCategory (numeric)', 'EmploymentStatus', 'IncomeRange', 'IncomeVerifiable', 'StatedMonthlyIncome', 'LoanCurrentDaysDelinquent', 'LoanOriginalAmount', 'LoanOriginationQuarter', 'MonthlyLoanPayment', 'Investors']]\n",
    "loans_edited.head()"
   ]
  },
  {
   "cell_type": "code",
   "execution_count": 7,
   "metadata": {},
   "outputs": [
    {
     "data": {
      "text/plain": [
       "ListingKey                       0\n",
       "Term                             0\n",
       "LoanStatus                       0\n",
       "BorrowerAPR                     25\n",
       "BorrowerRate                     0\n",
       "LenderYield                      0\n",
       "EstimatedEffectiveYield      29084\n",
       "EstimatedLoss                29084\n",
       "EstimatedReturn              29084\n",
       "ProsperScore                 29084\n",
       "ListingCategory (numeric)        0\n",
       "EmploymentStatus              2255\n",
       "IncomeRange                      0\n",
       "IncomeVerifiable                 0\n",
       "StatedMonthlyIncome              0\n",
       "LoanCurrentDaysDelinquent        0\n",
       "LoanOriginalAmount               0\n",
       "LoanOriginationQuarter           0\n",
       "MonthlyLoanPayment               0\n",
       "Investors                        0\n",
       "dtype: int64"
      ]
     },
     "execution_count": 7,
     "metadata": {},
     "output_type": "execute_result"
    }
   ],
   "source": [
    "#checking the number of null values in each variable\n",
    "loans_edited.isnull().sum()"
   ]
  },
  {
   "cell_type": "code",
   "execution_count": 8,
   "metadata": {},
   "outputs": [
    {
     "name": "stderr",
     "output_type": "stream",
     "text": [
      "c:\\users\\007\\appdata\\local\\programs\\python\\python36\\lib\\site-packages\\ipykernel_launcher.py:2: SettingWithCopyWarning: \n",
      "A value is trying to be set on a copy of a slice from a DataFrame\n",
      "\n",
      "See the caveats in the documentation: http://pandas.pydata.org/pandas-docs/stable/user_guide/indexing.html#returning-a-view-versus-a-copy\n",
      "  \n"
     ]
    },
    {
     "data": {
      "text/plain": [
       "ListingKey                   0\n",
       "Term                         0\n",
       "LoanStatus                   0\n",
       "BorrowerAPR                  0\n",
       "BorrowerRate                 0\n",
       "LenderYield                  0\n",
       "EstimatedEffectiveYield      0\n",
       "EstimatedLoss                0\n",
       "EstimatedReturn              0\n",
       "ProsperScore                 0\n",
       "ListingCategory (numeric)    0\n",
       "EmploymentStatus             0\n",
       "IncomeRange                  0\n",
       "IncomeVerifiable             0\n",
       "StatedMonthlyIncome          0\n",
       "LoanCurrentDaysDelinquent    0\n",
       "LoanOriginalAmount           0\n",
       "LoanOriginationQuarter       0\n",
       "MonthlyLoanPayment           0\n",
       "Investors                    0\n",
       "dtype: int64"
      ]
     },
     "execution_count": 8,
     "metadata": {},
     "output_type": "execute_result"
    }
   ],
   "source": [
    "# Removing null values from each variable.\n",
    "loans_edited.dropna(inplace=True)\n",
    "loans_edited.isnull().sum()"
   ]
  },
  {
   "cell_type": "code",
   "execution_count": 9,
   "metadata": {
    "scrolled": true
   },
   "outputs": [
    {
     "data": {
      "text/html": [
       "<div>\n",
       "<style scoped>\n",
       "    .dataframe tbody tr th:only-of-type {\n",
       "        vertical-align: middle;\n",
       "    }\n",
       "\n",
       "    .dataframe tbody tr th {\n",
       "        vertical-align: top;\n",
       "    }\n",
       "\n",
       "    .dataframe thead th {\n",
       "        text-align: right;\n",
       "    }\n",
       "</style>\n",
       "<table border=\"1\" class=\"dataframe\">\n",
       "  <thead>\n",
       "    <tr style=\"text-align: right;\">\n",
       "      <th></th>\n",
       "      <th>ListingKey</th>\n",
       "      <th>Term</th>\n",
       "      <th>LoanStatus</th>\n",
       "      <th>BorrowerAPR</th>\n",
       "      <th>BorrowerRate</th>\n",
       "      <th>LenderYield</th>\n",
       "      <th>EstimatedEffectiveYield</th>\n",
       "      <th>EstimatedLoss</th>\n",
       "      <th>EstimatedReturn</th>\n",
       "      <th>ProsperScore</th>\n",
       "      <th>ListingCategory (numeric)</th>\n",
       "      <th>EmploymentStatus</th>\n",
       "      <th>IncomeRange</th>\n",
       "      <th>IncomeVerifiable</th>\n",
       "      <th>StatedMonthlyIncome</th>\n",
       "      <th>LoanCurrentDaysDelinquent</th>\n",
       "      <th>LoanOriginalAmount</th>\n",
       "      <th>LoanOriginationQuarter</th>\n",
       "      <th>MonthlyLoanPayment</th>\n",
       "      <th>Investors</th>\n",
       "    </tr>\n",
       "  </thead>\n",
       "  <tbody>\n",
       "    <tr>\n",
       "      <th>1</th>\n",
       "      <td>10273602499503308B223C1</td>\n",
       "      <td>36</td>\n",
       "      <td>Current</td>\n",
       "      <td>0.12016</td>\n",
       "      <td>0.0920</td>\n",
       "      <td>0.0820</td>\n",
       "      <td>0.07960</td>\n",
       "      <td>0.0249</td>\n",
       "      <td>0.05470</td>\n",
       "      <td>7.0</td>\n",
       "      <td>2</td>\n",
       "      <td>Employed</td>\n",
       "      <td>$50,000-74,999</td>\n",
       "      <td>True</td>\n",
       "      <td>6125.000000</td>\n",
       "      <td>0</td>\n",
       "      <td>10000</td>\n",
       "      <td>Q1 2014</td>\n",
       "      <td>318.93</td>\n",
       "      <td>1</td>\n",
       "    </tr>\n",
       "    <tr>\n",
       "      <th>3</th>\n",
       "      <td>0EF5356002482715299901A</td>\n",
       "      <td>36</td>\n",
       "      <td>Current</td>\n",
       "      <td>0.12528</td>\n",
       "      <td>0.0974</td>\n",
       "      <td>0.0874</td>\n",
       "      <td>0.08490</td>\n",
       "      <td>0.0249</td>\n",
       "      <td>0.06000</td>\n",
       "      <td>9.0</td>\n",
       "      <td>16</td>\n",
       "      <td>Employed</td>\n",
       "      <td>$25,000-49,999</td>\n",
       "      <td>True</td>\n",
       "      <td>2875.000000</td>\n",
       "      <td>0</td>\n",
       "      <td>10000</td>\n",
       "      <td>Q4 2012</td>\n",
       "      <td>321.45</td>\n",
       "      <td>158</td>\n",
       "    </tr>\n",
       "    <tr>\n",
       "      <th>4</th>\n",
       "      <td>0F023589499656230C5E3E2</td>\n",
       "      <td>36</td>\n",
       "      <td>Current</td>\n",
       "      <td>0.24614</td>\n",
       "      <td>0.2085</td>\n",
       "      <td>0.1985</td>\n",
       "      <td>0.18316</td>\n",
       "      <td>0.0925</td>\n",
       "      <td>0.09066</td>\n",
       "      <td>4.0</td>\n",
       "      <td>2</td>\n",
       "      <td>Employed</td>\n",
       "      <td>$100,000+</td>\n",
       "      <td>True</td>\n",
       "      <td>9583.333333</td>\n",
       "      <td>0</td>\n",
       "      <td>15000</td>\n",
       "      <td>Q3 2013</td>\n",
       "      <td>563.97</td>\n",
       "      <td>20</td>\n",
       "    </tr>\n",
       "    <tr>\n",
       "      <th>5</th>\n",
       "      <td>0F05359734824199381F61D</td>\n",
       "      <td>60</td>\n",
       "      <td>Current</td>\n",
       "      <td>0.15425</td>\n",
       "      <td>0.1314</td>\n",
       "      <td>0.1214</td>\n",
       "      <td>0.11567</td>\n",
       "      <td>0.0449</td>\n",
       "      <td>0.07077</td>\n",
       "      <td>10.0</td>\n",
       "      <td>1</td>\n",
       "      <td>Employed</td>\n",
       "      <td>$100,000+</td>\n",
       "      <td>True</td>\n",
       "      <td>8333.333333</td>\n",
       "      <td>0</td>\n",
       "      <td>15000</td>\n",
       "      <td>Q4 2013</td>\n",
       "      <td>342.37</td>\n",
       "      <td>1</td>\n",
       "    </tr>\n",
       "    <tr>\n",
       "      <th>6</th>\n",
       "      <td>0F0A3576754255009D63151</td>\n",
       "      <td>36</td>\n",
       "      <td>Current</td>\n",
       "      <td>0.31032</td>\n",
       "      <td>0.2712</td>\n",
       "      <td>0.2612</td>\n",
       "      <td>0.23820</td>\n",
       "      <td>0.1275</td>\n",
       "      <td>0.11070</td>\n",
       "      <td>2.0</td>\n",
       "      <td>1</td>\n",
       "      <td>Employed</td>\n",
       "      <td>$25,000-49,999</td>\n",
       "      <td>True</td>\n",
       "      <td>2083.333333</td>\n",
       "      <td>0</td>\n",
       "      <td>3000</td>\n",
       "      <td>Q2 2013</td>\n",
       "      <td>122.67</td>\n",
       "      <td>1</td>\n",
       "    </tr>\n",
       "  </tbody>\n",
       "</table>\n",
       "</div>"
      ],
      "text/plain": [
       "                ListingKey  Term LoanStatus  BorrowerAPR  BorrowerRate  LenderYield  EstimatedEffectiveYield  EstimatedLoss  EstimatedReturn  ProsperScore  ListingCategory (numeric) EmploymentStatus     IncomeRange  IncomeVerifiable  StatedMonthlyIncome  LoanCurrentDaysDelinquent  LoanOriginalAmount  \\\n",
       "1  10273602499503308B223C1    36    Current      0.12016        0.0920       0.0820                  0.07960         0.0249          0.05470           7.0                          2         Employed  $50,000-74,999              True          6125.000000                          0               10000   \n",
       "3  0EF5356002482715299901A    36    Current      0.12528        0.0974       0.0874                  0.08490         0.0249          0.06000           9.0                         16         Employed  $25,000-49,999              True          2875.000000                          0               10000   \n",
       "4  0F023589499656230C5E3E2    36    Current      0.24614        0.2085       0.1985                  0.18316         0.0925          0.09066           4.0                          2         Employed       $100,000+              True          9583.333333                          0               15000   \n",
       "5  0F05359734824199381F61D    60    Current      0.15425        0.1314       0.1214                  0.11567         0.0449          0.07077          10.0                          1         Employed       $100,000+              True          8333.333333                          0               15000   \n",
       "6  0F0A3576754255009D63151    36    Current      0.31032        0.2712       0.2612                  0.23820         0.1275          0.11070           2.0                          1         Employed  $25,000-49,999              True          2083.333333                          0                3000   \n",
       "\n",
       "  LoanOriginationQuarter  MonthlyLoanPayment  Investors  \n",
       "1                Q1 2014              318.93          1  \n",
       "3                Q4 2012              321.45        158  \n",
       "4                Q3 2013              563.97         20  \n",
       "5                Q4 2013              342.37          1  \n",
       "6                Q2 2013              122.67          1  "
      ]
     },
     "execution_count": 9,
     "metadata": {},
     "output_type": "execute_result"
    }
   ],
   "source": [
    "# Calling the first 6 columns of the new dataset. \n",
    "loans_edited.head()"
   ]
  },
  {
   "cell_type": "code",
   "execution_count": 10,
   "metadata": {},
   "outputs": [
    {
     "data": {
      "text/plain": [
       "(84853, 20)"
      ]
     },
     "execution_count": 10,
     "metadata": {},
     "output_type": "execute_result"
    }
   ],
   "source": [
    "loans_edited.shape"
   ]
  },
  {
   "cell_type": "code",
   "execution_count": 11,
   "metadata": {
    "scrolled": true
   },
   "outputs": [
    {
     "name": "stdout",
     "output_type": "stream",
     "text": [
      "<class 'pandas.core.frame.DataFrame'>\n",
      "Int64Index: 84853 entries, 1 to 113936\n",
      "Data columns (total 20 columns):\n",
      "ListingKey                   84853 non-null object\n",
      "Term                         84853 non-null int64\n",
      "LoanStatus                   84853 non-null object\n",
      "BorrowerAPR                  84853 non-null float64\n",
      "BorrowerRate                 84853 non-null float64\n",
      "LenderYield                  84853 non-null float64\n",
      "EstimatedEffectiveYield      84853 non-null float64\n",
      "EstimatedLoss                84853 non-null float64\n",
      "EstimatedReturn              84853 non-null float64\n",
      "ProsperScore                 84853 non-null float64\n",
      "ListingCategory (numeric)    84853 non-null int64\n",
      "EmploymentStatus             84853 non-null object\n",
      "IncomeRange                  84853 non-null object\n",
      "IncomeVerifiable             84853 non-null bool\n",
      "StatedMonthlyIncome          84853 non-null float64\n",
      "LoanCurrentDaysDelinquent    84853 non-null int64\n",
      "LoanOriginalAmount           84853 non-null int64\n",
      "LoanOriginationQuarter       84853 non-null object\n",
      "MonthlyLoanPayment           84853 non-null float64\n",
      "Investors                    84853 non-null int64\n",
      "dtypes: bool(1), float64(9), int64(5), object(5)\n",
      "memory usage: 13.0+ MB\n"
     ]
    }
   ],
   "source": [
    "loans_edited.info()"
   ]
  },
  {
   "cell_type": "code",
   "execution_count": 12,
   "metadata": {},
   "outputs": [
    {
     "data": {
      "text/plain": [
       "0"
      ]
     },
     "execution_count": 12,
     "metadata": {},
     "output_type": "execute_result"
    }
   ],
   "source": [
    "# checking if there're any duplicates in the dataset.\n",
    "loans_edited.duplicated().sum()"
   ]
  },
  {
   "cell_type": "code",
   "execution_count": 13,
   "metadata": {},
   "outputs": [
    {
     "data": {
      "text/plain": [
       "{0: 'Not Available',\n",
       " 1: 'Debt Consolidation',\n",
       " 2: 'Home Improvement',\n",
       " 3: 'Business',\n",
       " 4: 'Personal Loan',\n",
       " 5: 'Student Use',\n",
       " 6: 'Auto',\n",
       " 7: 'Other',\n",
       " 8: 'Baby&Adoption',\n",
       " 9: 'Boat',\n",
       " 10: 'Cosmetic Procedure',\n",
       " 11: 'Engagement Ring',\n",
       " 12: 'Green Loans',\n",
       " 13: 'Household Expenses',\n",
       " 14: 'Large Purchases',\n",
       " 15: 'Medical/Dental',\n",
       " 16: 'Motorcycle',\n",
       " 17: 'RV',\n",
       " 18: 'Taxes',\n",
       " 19: 'Vacation',\n",
       " 20: 'Wedding Loan'}"
      ]
     },
     "execution_count": 13,
     "metadata": {},
     "output_type": "execute_result"
    }
   ],
   "source": [
    "# storing the values of ListingCategory inside a dict as I might need them later.\n",
    "listing_category = {\n",
    "    0:'Not Available', 1:'Debt Consolidation', 2:'Home Improvement', 3: 'Business', 4: 'Personal Loan', 5: 'Student Use', \n",
    "    6:'Auto',7: 'Other', 8:'Baby&Adoption',9: 'Boat', 10: 'Cosmetic Procedure', 11:'Engagement Ring', 12: 'Green Loans', \n",
    "    13:'Household Expenses', 14: 'Large Purchases', 15: 'Medical/Dental', 16: 'Motorcycle', 17: 'RV', 18: 'Taxes', \n",
    "    19:'Vacation', 20:'Wedding Loan'\n",
    "                    }\n",
    "listing_category"
   ]
  },
  {
   "cell_type": "markdown",
   "metadata": {},
   "source": [
    "### What is the structure of your dataset?\n",
    "\n",
    ">My Dataset consists of 84853 row and 20 columns \n",
    "\n",
    "### What is/are the main feature(s) of interest in your dataset?\n",
    "\n",
    ">The main features of interest are Loan Amount and Interest Rate on each loan, whether the borrower is employed or not and what his income range is.\n",
    "### What features in the dataset do you think will help support your investigation into your feature(s) of interest?\n",
    "\n",
    "> 1. BorrowerRate\n",
    "2. EmploymentStatus \n",
    "3. IncomeRange\n",
    "4.LoanOriginalAmount\n",
    "5.EstimatedReturn"
   ]
  },
  {
   "cell_type": "markdown",
   "metadata": {},
   "source": [
    "## Univariate Exploration\n",
    "\n",
    "> Starting my explorations with the Income Range Categorical Variable."
   ]
  },
  {
   "cell_type": "markdown",
   "metadata": {},
   "source": [
    "### 1. Income Range"
   ]
  },
  {
   "cell_type": "code",
   "execution_count": 14,
   "metadata": {
    "scrolled": false
   },
   "outputs": [
    {
     "name": "stderr",
     "output_type": "stream",
     "text": [
      "c:\\users\\007\\appdata\\local\\programs\\python\\python36\\lib\\site-packages\\ipykernel_launcher.py:4: SettingWithCopyWarning: \n",
      "A value is trying to be set on a copy of a slice from a DataFrame.\n",
      "Try using .loc[row_indexer,col_indexer] = value instead\n",
      "\n",
      "See the caveats in the documentation: http://pandas.pydata.org/pandas-docs/stable/user_guide/indexing.html#returning-a-view-versus-a-copy\n",
      "  after removing the cwd from sys.path.\n"
     ]
    }
   ],
   "source": [
    "#choosing the values and re-arranging them.\n",
    "income_range = ['$100,000+','$75,000-99,999', '$50,000-74,999' , '$25,000-49,999', '$1-24,999', 'Not employed']\n",
    "IncomeRange = pd.api.types.CategoricalDtype(ordered=True, categories=income_range)\n",
    "loans_edited['IncomeRange'] = loans_edited['IncomeRange'].astype(IncomeRange)"
   ]
  },
  {
   "cell_type": "code",
   "execution_count": 15,
   "metadata": {},
   "outputs": [
    {
     "data": {
      "text/plain": [
       "$50,000-74,999    25627\n",
       "$25,000-49,999    24175\n",
       "$100,000+         15205\n",
       "$75,000-99,999    14498\n",
       "$1-24,999          4654\n",
       "Not employed        649\n",
       "Name: IncomeRange, dtype: int64"
      ]
     },
     "execution_count": 15,
     "metadata": {},
     "output_type": "execute_result"
    }
   ],
   "source": [
    "# checking the count of each value.\n",
    "income_count = loans_edited.IncomeRange.value_counts()\n",
    "income_count"
   ]
  },
  {
   "cell_type": "code",
   "execution_count": 16,
   "metadata": {
    "scrolled": false
   },
   "outputs": [
    {
     "data": {
      "image/png": "[encoded data removed]",
      "text/plain": [
       "<Figure size 1080x360 with 1 Axes>"
      ]
     },
     "metadata": {
      "needs_background": "light"
     },
     "output_type": "display_data"
    }
   ],
   "source": [
    "# creating a countplot and adding a text of value counts beside each bar.\n",
    "plt.figure(figsize=[15,5])\n",
    "plt.title('Income Range of Borrowers')\n",
    "base_color = sb.color_palette()[0]\n",
    "sb.countplot(data=loans_edited, y='IncomeRange', color=base_color);\n",
    "for i in range(income_count.shape[0]):\n",
    "        count = income_count[i]\n",
    "        plt.text(count + 800, i, count, va='center', ha='center')"
   ]
  },
  {
   "cell_type": "markdown",
   "metadata": {},
   "source": [
    " > 1. We can observe two trends. The first one is the majority of borrowers applying for loans have an income range between 25k to 75k with Income Range between 50 to 75 in the first place.\n",
    "> 2. The Second trend is between 75k to 100+."
   ]
  },
  {
   "cell_type": "markdown",
   "metadata": {},
   "source": [
    "### 2. Income Verifiable (No. of People income documentation support)"
   ]
  },
  {
   "cell_type": "code",
   "execution_count": 17,
   "metadata": {},
   "outputs": [
    {
     "data": {
      "image/png": "[encoded data removed]",
      "text/plain": [
       "<Figure size 720x144 with 1 Axes>"
      ]
     },
     "metadata": {
      "needs_background": "light"
     },
     "output_type": "display_data"
    }
   ],
   "source": [
    "# Creating a countplot with IncomeVerifiable Variable\n",
    "plt.figure(figsize=[10,2])\n",
    "plt.title('Income Verifiable')\n",
    "base_color = sb.color_palette()[0]\n",
    "sb.countplot(data=loans_edited, y='IncomeVerifiable', color=base_color);\n",
    "plt.xlabel('No. Of People Having Income Documentation Support')\n",
    "plt.ylabel('Income Documentation Support');"
   ]
  },
  {
   "cell_type": "markdown",
   "metadata": {},
   "source": [
    "> We can observe that almost everyone has a documentation supporting their income range."
   ]
  },
  {
   "cell_type": "markdown",
   "metadata": {},
   "source": [
    "### 3. Monthly Loan Payment(The Amount due each month)"
   ]
  },
  {
   "cell_type": "code",
   "execution_count": 18,
   "metadata": {},
   "outputs": [
    {
     "data": {
      "text/plain": [
       "count    84853.000000\n",
       "mean       291.930720\n",
       "std        186.678314\n",
       "min          0.000000\n",
       "25%        157.330000\n",
       "50%        251.940000\n",
       "75%        388.350000\n",
       "max       2251.510000\n",
       "Name: MonthlyLoanPayment, dtype: float64"
      ]
     },
     "execution_count": 18,
     "metadata": {},
     "output_type": "execute_result"
    }
   ],
   "source": [
    "# Checking the five-number summary of the variable in order to use it in bins.\n",
    "loans_edited.MonthlyLoanPayment.describe()"
   ]
  },
  {
   "cell_type": "code",
   "execution_count": 19,
   "metadata": {
    "scrolled": true
   },
   "outputs": [
    {
     "data": {
      "image/png": "[encoded data removed]",
      "text/plain": [
       "<Figure size 432x288 with 1 Axes>"
      ]
     },
     "metadata": {
      "needs_background": "light"
     },
     "output_type": "display_data"
    }
   ],
   "source": [
    "# Creating a histogram with modified bins and x-axis ticks.\n",
    "plt.title('Monthly Loan Payment')\n",
    "ticks = [0,100,200,300,400,500,600,700,800,900,1000,1100,1200,1300,1400]\n",
    "bins = np.arange(0, 1500, 100)\n",
    "plt.hist(data=loans_edited, x='MonthlyLoanPayment', bins=bins)\n",
    "plt.xticks(ticks, rotation=45)\n",
    "plt.xlabel('Monthly Payment')\n",
    "plt.ylabel('Frequency');"
   ]
  },
  {
   "cell_type": "markdown",
   "metadata": {},
   "source": [
    "> We can observe that the figure is right-skewed with a high frequency in the monthly payments between 100-200"
   ]
  },
  {
   "cell_type": "markdown",
   "metadata": {},
   "source": [
    "### 4. Loan Original Amount"
   ]
  },
  {
   "cell_type": "code",
   "execution_count": 20,
   "metadata": {},
   "outputs": [
    {
     "data": {
      "text/plain": [
       "count    84853.000000\n",
       "mean         0.196022\n",
       "std          0.074631\n",
       "min          0.040000\n",
       "25%          0.135900\n",
       "50%          0.187500\n",
       "75%          0.257400\n",
       "max          0.360000\n",
       "Name: BorrowerRate, dtype: float64"
      ]
     },
     "execution_count": 20,
     "metadata": {},
     "output_type": "execute_result"
    }
   ],
   "source": [
    "# Checking the five-number summary of the variable in order to use it in bins.\n",
    "loans_edited.BorrowerRate.describe()"
   ]
  },
  {
   "cell_type": "code",
   "execution_count": 21,
   "metadata": {
    "scrolled": true
   },
   "outputs": [
    {
     "data": {
      "image/png": "[encoded data removed]",
      "text/plain": [
       "<Figure size 432x288 with 1 Axes>"
      ]
     },
     "metadata": {
      "needs_background": "light"
     },
     "output_type": "display_data"
    }
   ],
   "source": [
    "# Creating a histogram with modified bins.\n",
    "plt.title('Loan Original Amount')\n",
    "bins = np.arange(1000,35000+1000, 1000)\n",
    "plt.hist(data=loans_edited, x='LoanOriginalAmount', bins=bins)\n",
    "plt.xlabel('Loan Amount')\n",
    "plt.ylabel('Frequency');"
   ]
  },
  {
   "cell_type": "markdown",
   "metadata": {},
   "source": [
    ">We can observe that the most freqeunt Loan Amount lies in the 5k area followed by 15k and 10k."
   ]
  },
  {
   "cell_type": "markdown",
   "metadata": {},
   "source": [
    "### 5. Borrower Interest Rate"
   ]
  },
  {
   "cell_type": "code",
   "execution_count": 22,
   "metadata": {},
   "outputs": [
    {
     "data": {
      "image/png": "[encoded data removed]",
      "text/plain": [
       "<Figure size 432x288 with 1 Axes>"
      ]
     },
     "metadata": {
      "needs_background": "light"
     },
     "output_type": "display_data"
    }
   ],
   "source": [
    "# Creating a histogram with modified bins.\n",
    "plt.title('Borrower Interest Rate')\n",
    "bins = np.arange(0.04, 0.36+0.01, 0.01)\n",
    "plt.hist(data=loans_edited, x='BorrowerRate', bins=bins);\n",
    "plt.xlabel('Rate')\n",
    "plt.ylabel('Frequency');"
   ]
  },
  {
   "cell_type": "markdown",
   "metadata": {},
   "source": [
    ">The plot is almost normally distributed with a spike in interest rate of 32% with interest rates ranged between 0.10 and 0.25"
   ]
  },
  {
   "cell_type": "markdown",
   "metadata": {},
   "source": [
    "### 6. Term (The Duration of Loan)"
   ]
  },
  {
   "cell_type": "code",
   "execution_count": 23,
   "metadata": {
    "scrolled": false
   },
   "outputs": [
    {
     "data": {
      "image/png": "[encoded data removed]",
      "text/plain": [
       "<Figure size 720x144 with 1 Axes>"
      ]
     },
     "metadata": {
      "needs_background": "light"
     },
     "output_type": "display_data"
    }
   ],
   "source": [
    "plt.figure(figsize=[10,2])\n",
    "plt.title('Term')\n",
    "base_color = sb.color_palette()[0]\n",
    "sb.countplot(data=loans_edited, y='Term', color=base_color);\n",
    "plt.ylabel('Length of Loans in Months');"
   ]
  },
  {
   "cell_type": "markdown",
   "metadata": {},
   "source": [
    "> We can observe that 36 Months - Term has occured the most, with 60 Months coming in the second place and 12 months is the least occurring. This means that almost every loan is a 3 years loan"
   ]
  },
  {
   "cell_type": "markdown",
   "metadata": {},
   "source": [
    "### Discuss the distribution(s) of your variable(s) of interest. Were there any unusual points? Did you need to perform any transformations?\n",
    "\n",
    "> The only tansformation I've peformed was rearranging the IncomeRange cateogries as it looked messy and removing the '0' cateogry from that column as it made no sense.\n",
    "\n",
    "### Of the features you investigated, were there any unusual distributions? Did you perform any operations on the data to tidy, adjust, or change the form of the data? If so, why did you do this?\n",
    "\n",
    "> I didn't expect to find that most of Loan Amounts fall in 5000-15000 range and was expecting higher amounts. I also found out that almost 10k of borrowers haven't verified their income which means they might not be able take their loans."
   ]
  },
  {
   "cell_type": "markdown",
   "metadata": {},
   "source": [
    "## Bivariate Exploration"
   ]
  },
  {
   "cell_type": "markdown",
   "metadata": {},
   "source": [
    "### 1. Do monthly payments increase by the increase in loan amounts?"
   ]
  },
  {
   "cell_type": "code",
   "execution_count": 24,
   "metadata": {},
   "outputs": [
    {
     "data": {
      "image/png": "[encoded data removed]",
      "text/plain": [
       "<Figure size 720x360 with 1 Axes>"
      ]
     },
     "metadata": {
      "needs_background": "light"
     },
     "output_type": "display_data"
    }
   ],
   "source": [
    "# Creating Scatter Plot with Two Variables.\n",
    "plt.figure(figsize=(10,5))\n",
    "plt.title('Does Monthly Payment increase by the increasing in Loan Amount?')\n",
    "sb.regplot(data=loans_edited, x='MonthlyLoanPayment', y='LoanOriginalAmount', x_jitter=0.5, scatter_kws={'alpha':1/8})\n",
    "plt.plot([0,2500], [0,30000]);"
   ]
  },
  {
   "cell_type": "markdown",
   "metadata": {},
   "source": [
    "> There's a postivie relationship between Loan Amount and Monthly Loan Payment as we observe and most of the data falls bettween 1000 Monthly Loan payment and 30000 Loan Original Amount. On the contrary, I made a diagonal to mark the other trend which is Small Loan Amounts can have large monthly payments but that trends lies between 0 - 15000 Loan Original Amounts"
   ]
  },
  {
   "cell_type": "markdown",
   "metadata": {},
   "source": [
    "### 2. What happens when the number of investors that funding the loan increase? Does that mean an increase in Loan Amount?"
   ]
  },
  {
   "cell_type": "code",
   "execution_count": 25,
   "metadata": {},
   "outputs": [
    {
     "data": {
      "text/plain": [
       "(count    84853.000000\n",
       " mean        68.264669\n",
       " std         95.195831\n",
       " min          1.000000\n",
       " 25%          1.000000\n",
       " 50%         32.000000\n",
       " 75%         97.000000\n",
       " max       1189.000000\n",
       " Name: Investors, dtype: float64,\n",
       " count    84853.000000\n",
       " mean      9083.440515\n",
       " std       6287.860058\n",
       " min       1000.000000\n",
       " 25%       4000.000000\n",
       " 50%       7500.000000\n",
       " 75%      13500.000000\n",
       " max      35000.000000\n",
       " Name: LoanOriginalAmount, dtype: float64)"
      ]
     },
     "execution_count": 25,
     "metadata": {},
     "output_type": "execute_result"
    }
   ],
   "source": [
    "# Checking the five-number summary of the variables in order to use it in bins.\n",
    "loans_edited.Investors.describe(), loans_edited.LoanOriginalAmount.describe()"
   ]
  },
  {
   "cell_type": "code",
   "execution_count": 26,
   "metadata": {},
   "outputs": [
    {
     "data": {
      "image/png": "[encoded data removed]",
      "text/plain": [
       "<Figure size 432x288 with 2 Axes>"
      ]
     },
     "metadata": {
      "needs_background": "light"
     },
     "output_type": "display_data"
    }
   ],
   "source": [
    "# Creating a Heatmap with a modified bins and add the count inside each square.\n",
    "plt.title('Does the amount of loan increase by the number of investores funding the loan?')\n",
    "bins_x=np.arange(1,1200+200,200)\n",
    "bins_y=np.arange(1000,35000+5000,5000)\n",
    "h2d=plt.hist2d(data=loans_edited, x='Investors', y='LoanOriginalAmount', cmin=0.5, cmap='viridis_r', bins=[bins_x, bins_y])\n",
    "h2d\n",
    "cb = plt.colorbar()\n",
    "cb.set_label('count');\n",
    "counts = h2d[0]\n",
    "for i in range(counts.shape[0]):\n",
    "    for j in range(counts.shape[1]):\n",
    "        c=counts[i,j]\n",
    "        if c >= 500:\n",
    "            plt.text(bins_x[i]+100, bins_y[j]+1000, int(c), ha='center', va='center', color='white')\n",
    "        elif c > 0:\n",
    "            plt.text(bins_x[i]+100, bins_y[j]+1000, int(c), ha='center', va='center', color='black')\n",
    "plt.xlabel('No. Of Investors that funnder the Loan')\n",
    "plt.ylabel('Loan Original Amount');"
   ]
  },
  {
   "cell_type": "markdown",
   "metadata": {},
   "source": [
    "> Most of the investors lies in bottom left of the heat map and there's a weak positive relationship as the no. of investors doesn't increase the origianl amount of Loan."
   ]
  },
  {
   "cell_type": "markdown",
   "metadata": {},
   "source": [
    "### 3. How many borrowers have a documentation that support their income?"
   ]
  },
  {
   "cell_type": "code",
   "execution_count": 27,
   "metadata": {},
   "outputs": [
    {
     "data": {
      "text/plain": [
       "IncomeRange     IncomeVerifiable\n",
       "$100,000+       False                1192\n",
       "                True                14013\n",
       "$75,000-99,999  False                 859\n",
       "                True                13639\n",
       "$50,000-74,999  False                1612\n",
       "                True                24015\n",
       "$25,000-49,999  False                2171\n",
       "                True                22004\n",
       "$1-24,999       False                 816\n",
       "                True                 3838\n",
       "Not employed    False                 645\n",
       "                True                    4\n",
       "dtype: int64"
      ]
     },
     "execution_count": 27,
     "metadata": {},
     "output_type": "execute_result"
    }
   ],
   "source": [
    "# creating a new df groupedby IncomeRange and Income Verifiable\n",
    "income = loans_edited.groupby(['IncomeRange', 'IncomeVerifiable']).size()\n",
    "income"
   ]
  },
  {
   "cell_type": "code",
   "execution_count": 28,
   "metadata": {},
   "outputs": [
    {
     "data": {
      "text/html": [
       "<div>\n",
       "<style scoped>\n",
       "    .dataframe tbody tr th:only-of-type {\n",
       "        vertical-align: middle;\n",
       "    }\n",
       "\n",
       "    .dataframe tbody tr th {\n",
       "        vertical-align: top;\n",
       "    }\n",
       "\n",
       "    .dataframe thead th {\n",
       "        text-align: right;\n",
       "    }\n",
       "</style>\n",
       "<table border=\"1\" class=\"dataframe\">\n",
       "  <thead>\n",
       "    <tr style=\"text-align: right;\">\n",
       "      <th></th>\n",
       "      <th>IncomeRange</th>\n",
       "      <th>IncomeVerifiable</th>\n",
       "      <th>count</th>\n",
       "    </tr>\n",
       "  </thead>\n",
       "  <tbody>\n",
       "    <tr>\n",
       "      <th>0</th>\n",
       "      <td>$100,000+</td>\n",
       "      <td>False</td>\n",
       "      <td>1192</td>\n",
       "    </tr>\n",
       "    <tr>\n",
       "      <th>1</th>\n",
       "      <td>$100,000+</td>\n",
       "      <td>True</td>\n",
       "      <td>14013</td>\n",
       "    </tr>\n",
       "    <tr>\n",
       "      <th>2</th>\n",
       "      <td>$75,000-99,999</td>\n",
       "      <td>False</td>\n",
       "      <td>859</td>\n",
       "    </tr>\n",
       "    <tr>\n",
       "      <th>3</th>\n",
       "      <td>$75,000-99,999</td>\n",
       "      <td>True</td>\n",
       "      <td>13639</td>\n",
       "    </tr>\n",
       "    <tr>\n",
       "      <th>4</th>\n",
       "      <td>$50,000-74,999</td>\n",
       "      <td>False</td>\n",
       "      <td>1612</td>\n",
       "    </tr>\n",
       "    <tr>\n",
       "      <th>5</th>\n",
       "      <td>$50,000-74,999</td>\n",
       "      <td>True</td>\n",
       "      <td>24015</td>\n",
       "    </tr>\n",
       "    <tr>\n",
       "      <th>6</th>\n",
       "      <td>$25,000-49,999</td>\n",
       "      <td>False</td>\n",
       "      <td>2171</td>\n",
       "    </tr>\n",
       "    <tr>\n",
       "      <th>7</th>\n",
       "      <td>$25,000-49,999</td>\n",
       "      <td>True</td>\n",
       "      <td>22004</td>\n",
       "    </tr>\n",
       "    <tr>\n",
       "      <th>8</th>\n",
       "      <td>$1-24,999</td>\n",
       "      <td>False</td>\n",
       "      <td>816</td>\n",
       "    </tr>\n",
       "    <tr>\n",
       "      <th>9</th>\n",
       "      <td>$1-24,999</td>\n",
       "      <td>True</td>\n",
       "      <td>3838</td>\n",
       "    </tr>\n",
       "    <tr>\n",
       "      <th>10</th>\n",
       "      <td>Not employed</td>\n",
       "      <td>False</td>\n",
       "      <td>645</td>\n",
       "    </tr>\n",
       "    <tr>\n",
       "      <th>11</th>\n",
       "      <td>Not employed</td>\n",
       "      <td>True</td>\n",
       "      <td>4</td>\n",
       "    </tr>\n",
       "  </tbody>\n",
       "</table>\n",
       "</div>"
      ],
      "text/plain": [
       "       IncomeRange  IncomeVerifiable  count\n",
       "0        $100,000+             False   1192\n",
       "1        $100,000+              True  14013\n",
       "2   $75,000-99,999             False    859\n",
       "3   $75,000-99,999              True  13639\n",
       "4   $50,000-74,999             False   1612\n",
       "5   $50,000-74,999              True  24015\n",
       "6   $25,000-49,999             False   2171\n",
       "7   $25,000-49,999              True  22004\n",
       "8        $1-24,999             False    816\n",
       "9        $1-24,999              True   3838\n",
       "10    Not employed             False    645\n",
       "11    Not employed              True      4"
      ]
     },
     "execution_count": 28,
     "metadata": {},
     "output_type": "execute_result"
    }
   ],
   "source": [
    "# Resetting the index of the df\n",
    "income = income.reset_index(name='count')\n",
    "income"
   ]
  },
  {
   "cell_type": "code",
   "execution_count": 29,
   "metadata": {},
   "outputs": [
    {
     "data": {
      "text/html": [
       "<div>\n",
       "<style scoped>\n",
       "    .dataframe tbody tr th:only-of-type {\n",
       "        vertical-align: middle;\n",
       "    }\n",
       "\n",
       "    .dataframe tbody tr th {\n",
       "        vertical-align: top;\n",
       "    }\n",
       "\n",
       "    .dataframe thead th {\n",
       "        text-align: right;\n",
       "    }\n",
       "</style>\n",
       "<table border=\"1\" class=\"dataframe\">\n",
       "  <thead>\n",
       "    <tr style=\"text-align: right;\">\n",
       "      <th>IncomeVerifiable</th>\n",
       "      <th>False</th>\n",
       "      <th>True</th>\n",
       "    </tr>\n",
       "    <tr>\n",
       "      <th>IncomeRange</th>\n",
       "      <th></th>\n",
       "      <th></th>\n",
       "    </tr>\n",
       "  </thead>\n",
       "  <tbody>\n",
       "    <tr>\n",
       "      <th>$100,000+</th>\n",
       "      <td>1192</td>\n",
       "      <td>14013</td>\n",
       "    </tr>\n",
       "    <tr>\n",
       "      <th>$75,000-99,999</th>\n",
       "      <td>859</td>\n",
       "      <td>13639</td>\n",
       "    </tr>\n",
       "    <tr>\n",
       "      <th>$50,000-74,999</th>\n",
       "      <td>1612</td>\n",
       "      <td>24015</td>\n",
       "    </tr>\n",
       "    <tr>\n",
       "      <th>$25,000-49,999</th>\n",
       "      <td>2171</td>\n",
       "      <td>22004</td>\n",
       "    </tr>\n",
       "    <tr>\n",
       "      <th>$1-24,999</th>\n",
       "      <td>816</td>\n",
       "      <td>3838</td>\n",
       "    </tr>\n",
       "    <tr>\n",
       "      <th>Not employed</th>\n",
       "      <td>645</td>\n",
       "      <td>4</td>\n",
       "    </tr>\n",
       "  </tbody>\n",
       "</table>\n",
       "</div>"
      ],
      "text/plain": [
       "IncomeVerifiable  False  True \n",
       "IncomeRange                   \n",
       "$100,000+          1192  14013\n",
       "$75,000-99,999      859  13639\n",
       "$50,000-74,999     1612  24015\n",
       "$25,000-49,999     2171  22004\n",
       "$1-24,999           816   3838\n",
       "Not employed        645      4"
      ]
     },
     "execution_count": 29,
     "metadata": {},
     "output_type": "execute_result"
    }
   ],
   "source": [
    "# Creating a pivot table with Income Verifiable in columns and Income Range in rows.\n",
    "income = income.pivot(index='IncomeRange', columns='IncomeVerifiable', values='count')\n",
    "income"
   ]
  },
  {
   "cell_type": "code",
   "execution_count": 30,
   "metadata": {},
   "outputs": [
    {
     "data": {
      "image/png": "[encoded data removed]",
      "text/plain": [
       "<Figure size 1440x360 with 3 Axes>"
      ]
     },
     "metadata": {
      "needs_background": "light"
     },
     "output_type": "display_data"
    }
   ],
   "source": [
    "# Creating heatmap and barcharts between two variables.\n",
    "plt.figure(figsize=[20,5])\n",
    "plt.subplot(1,2,1)\n",
    "plt.title('Does the borrower provided us with a documentation that supportes their provided Income Range?')\n",
    "sb.heatmap(income, annot = True, fmt = 'd');\n",
    "plt.subplot(1,2,2)\n",
    "plt.title('Does the borrower provided us with a documentation that supportes their provided Income Range?')\n",
    "sb.countplot(data=loans_edited, x='IncomeRange', hue='IncomeVerifiable')\n",
    "plt.ylabel('No. of Provided Documentation')\n",
    "plt.xticks(rotation=15);"
   ]
  },
  {
   "cell_type": "markdown",
   "metadata": {},
   "source": [
    ">As we can observe mostly almost everyone has provided Income support documents, people with income range lies between 50k to 75k has brought documents then comes people with income range lies between 25k and 50k. "
   ]
  },
  {
   "cell_type": "markdown",
   "metadata": {},
   "source": [
    "### 4. Does borrower income range affect the term (duration) of the loan?"
   ]
  },
  {
   "cell_type": "code",
   "execution_count": 31,
   "metadata": {
    "scrolled": true
   },
   "outputs": [
    {
     "data": {
      "text/plain": [
       "IncomeRange     Term\n",
       "$100,000+       12        387\n",
       "                36      10018\n",
       "                60       4800\n",
       "$75,000-99,999  12        311\n",
       "                36       9610\n",
       "                60       4577\n",
       "$50,000-74,999  12        432\n",
       "                36      17259\n",
       "                60       7936\n",
       "$25,000-49,999  12        380\n",
       "                36      17469\n",
       "                60       6326\n",
       "$1-24,999       12         77\n",
       "                36       3789\n",
       "                60        788\n",
       "Not employed    12         26\n",
       "                36        509\n",
       "                60        114\n",
       "dtype: int64"
      ]
     },
     "execution_count": 31,
     "metadata": {},
     "output_type": "execute_result"
    }
   ],
   "source": [
    "# creating a new df groupedby IncomeRange and Term\n",
    "income_term = loans_edited.groupby(['IncomeRange', 'Term']).size()\n",
    "income_term"
   ]
  },
  {
   "cell_type": "code",
   "execution_count": 32,
   "metadata": {},
   "outputs": [
    {
     "data": {
      "text/html": [
       "<div>\n",
       "<style scoped>\n",
       "    .dataframe tbody tr th:only-of-type {\n",
       "        vertical-align: middle;\n",
       "    }\n",
       "\n",
       "    .dataframe tbody tr th {\n",
       "        vertical-align: top;\n",
       "    }\n",
       "\n",
       "    .dataframe thead th {\n",
       "        text-align: right;\n",
       "    }\n",
       "</style>\n",
       "<table border=\"1\" class=\"dataframe\">\n",
       "  <thead>\n",
       "    <tr style=\"text-align: right;\">\n",
       "      <th></th>\n",
       "      <th>IncomeRange</th>\n",
       "      <th>Term</th>\n",
       "      <th>count</th>\n",
       "    </tr>\n",
       "  </thead>\n",
       "  <tbody>\n",
       "    <tr>\n",
       "      <th>0</th>\n",
       "      <td>$100,000+</td>\n",
       "      <td>12</td>\n",
       "      <td>387</td>\n",
       "    </tr>\n",
       "    <tr>\n",
       "      <th>1</th>\n",
       "      <td>$100,000+</td>\n",
       "      <td>36</td>\n",
       "      <td>10018</td>\n",
       "    </tr>\n",
       "    <tr>\n",
       "      <th>2</th>\n",
       "      <td>$100,000+</td>\n",
       "      <td>60</td>\n",
       "      <td>4800</td>\n",
       "    </tr>\n",
       "    <tr>\n",
       "      <th>3</th>\n",
       "      <td>$75,000-99,999</td>\n",
       "      <td>12</td>\n",
       "      <td>311</td>\n",
       "    </tr>\n",
       "    <tr>\n",
       "      <th>4</th>\n",
       "      <td>$75,000-99,999</td>\n",
       "      <td>36</td>\n",
       "      <td>9610</td>\n",
       "    </tr>\n",
       "    <tr>\n",
       "      <th>5</th>\n",
       "      <td>$75,000-99,999</td>\n",
       "      <td>60</td>\n",
       "      <td>4577</td>\n",
       "    </tr>\n",
       "    <tr>\n",
       "      <th>6</th>\n",
       "      <td>$50,000-74,999</td>\n",
       "      <td>12</td>\n",
       "      <td>432</td>\n",
       "    </tr>\n",
       "    <tr>\n",
       "      <th>7</th>\n",
       "      <td>$50,000-74,999</td>\n",
       "      <td>36</td>\n",
       "      <td>17259</td>\n",
       "    </tr>\n",
       "    <tr>\n",
       "      <th>8</th>\n",
       "      <td>$50,000-74,999</td>\n",
       "      <td>60</td>\n",
       "      <td>7936</td>\n",
       "    </tr>\n",
       "    <tr>\n",
       "      <th>9</th>\n",
       "      <td>$25,000-49,999</td>\n",
       "      <td>12</td>\n",
       "      <td>380</td>\n",
       "    </tr>\n",
       "    <tr>\n",
       "      <th>10</th>\n",
       "      <td>$25,000-49,999</td>\n",
       "      <td>36</td>\n",
       "      <td>17469</td>\n",
       "    </tr>\n",
       "    <tr>\n",
       "      <th>11</th>\n",
       "      <td>$25,000-49,999</td>\n",
       "      <td>60</td>\n",
       "      <td>6326</td>\n",
       "    </tr>\n",
       "    <tr>\n",
       "      <th>12</th>\n",
       "      <td>$1-24,999</td>\n",
       "      <td>12</td>\n",
       "      <td>77</td>\n",
       "    </tr>\n",
       "    <tr>\n",
       "      <th>13</th>\n",
       "      <td>$1-24,999</td>\n",
       "      <td>36</td>\n",
       "      <td>3789</td>\n",
       "    </tr>\n",
       "    <tr>\n",
       "      <th>14</th>\n",
       "      <td>$1-24,999</td>\n",
       "      <td>60</td>\n",
       "      <td>788</td>\n",
       "    </tr>\n",
       "    <tr>\n",
       "      <th>15</th>\n",
       "      <td>Not employed</td>\n",
       "      <td>12</td>\n",
       "      <td>26</td>\n",
       "    </tr>\n",
       "    <tr>\n",
       "      <th>16</th>\n",
       "      <td>Not employed</td>\n",
       "      <td>36</td>\n",
       "      <td>509</td>\n",
       "    </tr>\n",
       "    <tr>\n",
       "      <th>17</th>\n",
       "      <td>Not employed</td>\n",
       "      <td>60</td>\n",
       "      <td>114</td>\n",
       "    </tr>\n",
       "  </tbody>\n",
       "</table>\n",
       "</div>"
      ],
      "text/plain": [
       "       IncomeRange  Term  count\n",
       "0        $100,000+    12    387\n",
       "1        $100,000+    36  10018\n",
       "2        $100,000+    60   4800\n",
       "3   $75,000-99,999    12    311\n",
       "4   $75,000-99,999    36   9610\n",
       "5   $75,000-99,999    60   4577\n",
       "6   $50,000-74,999    12    432\n",
       "7   $50,000-74,999    36  17259\n",
       "8   $50,000-74,999    60   7936\n",
       "9   $25,000-49,999    12    380\n",
       "10  $25,000-49,999    36  17469\n",
       "11  $25,000-49,999    60   6326\n",
       "12       $1-24,999    12     77\n",
       "13       $1-24,999    36   3789\n",
       "14       $1-24,999    60    788\n",
       "15    Not employed    12     26\n",
       "16    Not employed    36    509\n",
       "17    Not employed    60    114"
      ]
     },
     "execution_count": 32,
     "metadata": {},
     "output_type": "execute_result"
    }
   ],
   "source": [
    "# Resetting the index of the df\n",
    "income_term = income_term.reset_index(name='count')\n",
    "income_term"
   ]
  },
  {
   "cell_type": "code",
   "execution_count": 33,
   "metadata": {},
   "outputs": [
    {
     "data": {
      "text/html": [
       "<div>\n",
       "<style scoped>\n",
       "    .dataframe tbody tr th:only-of-type {\n",
       "        vertical-align: middle;\n",
       "    }\n",
       "\n",
       "    .dataframe tbody tr th {\n",
       "        vertical-align: top;\n",
       "    }\n",
       "\n",
       "    .dataframe thead th {\n",
       "        text-align: right;\n",
       "    }\n",
       "</style>\n",
       "<table border=\"1\" class=\"dataframe\">\n",
       "  <thead>\n",
       "    <tr style=\"text-align: right;\">\n",
       "      <th>Term</th>\n",
       "      <th>12</th>\n",
       "      <th>36</th>\n",
       "      <th>60</th>\n",
       "    </tr>\n",
       "    <tr>\n",
       "      <th>IncomeRange</th>\n",
       "      <th></th>\n",
       "      <th></th>\n",
       "      <th></th>\n",
       "    </tr>\n",
       "  </thead>\n",
       "  <tbody>\n",
       "    <tr>\n",
       "      <th>$100,000+</th>\n",
       "      <td>387</td>\n",
       "      <td>10018</td>\n",
       "      <td>4800</td>\n",
       "    </tr>\n",
       "    <tr>\n",
       "      <th>$75,000-99,999</th>\n",
       "      <td>311</td>\n",
       "      <td>9610</td>\n",
       "      <td>4577</td>\n",
       "    </tr>\n",
       "    <tr>\n",
       "      <th>$50,000-74,999</th>\n",
       "      <td>432</td>\n",
       "      <td>17259</td>\n",
       "      <td>7936</td>\n",
       "    </tr>\n",
       "    <tr>\n",
       "      <th>$25,000-49,999</th>\n",
       "      <td>380</td>\n",
       "      <td>17469</td>\n",
       "      <td>6326</td>\n",
       "    </tr>\n",
       "    <tr>\n",
       "      <th>$1-24,999</th>\n",
       "      <td>77</td>\n",
       "      <td>3789</td>\n",
       "      <td>788</td>\n",
       "    </tr>\n",
       "    <tr>\n",
       "      <th>Not employed</th>\n",
       "      <td>26</td>\n",
       "      <td>509</td>\n",
       "      <td>114</td>\n",
       "    </tr>\n",
       "  </tbody>\n",
       "</table>\n",
       "</div>"
      ],
      "text/plain": [
       "Term             12     36    60\n",
       "IncomeRange                     \n",
       "$100,000+       387  10018  4800\n",
       "$75,000-99,999  311   9610  4577\n",
       "$50,000-74,999  432  17259  7936\n",
       "$25,000-49,999  380  17469  6326\n",
       "$1-24,999        77   3789   788\n",
       "Not employed     26    509   114"
      ]
     },
     "execution_count": 33,
     "metadata": {},
     "output_type": "execute_result"
    }
   ],
   "source": [
    "# Creating a pivot table with Term in columns and Income Range in rows.\n",
    "income_term = income_term.pivot(index='IncomeRange', columns='Term', values='count')\n",
    "income_term"
   ]
  },
  {
   "cell_type": "code",
   "execution_count": 34,
   "metadata": {},
   "outputs": [
    {
     "data": {
      "image/png": "[encoded data removed]",
      "text/plain": [
       "<Figure size 1440x360 with 3 Axes>"
      ]
     },
     "metadata": {
      "needs_background": "light"
     },
     "output_type": "display_data"
    }
   ],
   "source": [
    "# Creating heatmap and barcharts between two variables.\n",
    "plt.figure(figsize=[20,5])\n",
    "plt.subplot(1,2,1)\n",
    "plt.title('Does Income Range affect the duration length of Loans?')\n",
    "sb.heatmap(income_term, annot = True, fmt = 'd');\n",
    "plt.subplot(1,2,2)\n",
    "plt.title('Does Income Range affect the duration length of Loans?')\n",
    "sb.countplot(data=loans_edited, x='IncomeRange', hue='Term')\n",
    "plt.ylabel('Count')\n",
    "plt.xticks(rotation=15);"
   ]
  },
  {
   "cell_type": "markdown",
   "metadata": {},
   "source": [
    "> We can observe that if you have a high income range that doesn't necessarily mean that you're going for a high term loan. 36 Term has the most count values then comes 60. People with Income Range between 25k and 75k tend to get a loan that has a duration of 36 months. Same goes for each Income Range category.  "
   ]
  },
  {
   "cell_type": "markdown",
   "metadata": {},
   "source": [
    "### Talk about some of the relationships you observed in this part of the investigation. How did the feature(s) of interest vary with other features in the dataset?\n",
    "\n",
    "> Some features had strong positive relationship like Loan Amount and Monthly Payments, other features has weak realtionship like Loan Amount and The No. of Investors.\n",
    "\n",
    "### Did you observe any interesting relationships between the other features (not the main feature(s) of interest)?\n",
    "\n",
    "> yes, I thought people with High Income Range tend to get Loans with higher duration term but that wasn't true as we can observe in the 4th plot. Most people tend to borrow loan for a durations of 36 months. which means that Term doesn't increase by the increase in Income Range"
   ]
  },
  {
   "cell_type": "markdown",
   "metadata": {},
   "source": [
    "## Multivariate Exploration"
   ]
  },
  {
   "cell_type": "markdown",
   "metadata": {},
   "source": [
    "### 1. What is the relationship between Borrower APR, Borrower Rate and Lender Yield?"
   ]
  },
  {
   "cell_type": "code",
   "execution_count": 35,
   "metadata": {
    "scrolled": false
   },
   "outputs": [
    {
     "data": {
      "image/png": "[encoded data removed]",
      "text/plain": [
       "<Figure size 540x540 with 12 Axes>"
      ]
     },
     "metadata": {
      "needs_background": "light"
     },
     "output_type": "display_data"
    }
   ],
   "source": [
    "# Creating Multi Plots with 3 varibales.\n",
    "multiplots = sb.PairGrid(data = loans_edited, vars = ['BorrowerAPR', 'BorrowerRate', 'LenderYield'])\n",
    "multiplots.map_diag(plt.hist)\n",
    "multiplots.map_offdiag(plt.scatter);"
   ]
  },
  {
   "cell_type": "markdown",
   "metadata": {},
   "source": [
    "> There's Strong Positive relation between each one of the 3 variable as we can see the dense straight line between each of the three variables. Borrower Annual Percentage Rate increases when Lender Yield increase and when Borrower Interest Rate increases."
   ]
  },
  {
   "cell_type": "code",
   "execution_count": 36,
   "metadata": {},
   "outputs": [
    {
     "data": {
      "image/png": "[encoded data removed]",
      "text/plain": [
       "<Figure size 432x288 with 2 Axes>"
      ]
     },
     "metadata": {
      "needs_background": "light"
     },
     "output_type": "display_data"
    }
   ],
   "source": [
    "# Heat Corr Map between the three Variables.\n",
    "rate = loans_edited[['BorrowerAPR', 'BorrowerRate', 'LenderYield']]\n",
    "sb.heatmap(rate.corr(), annot = True, fmt = '.2f', cmap = 'vlag_r', center = 0);"
   ]
  },
  {
   "cell_type": "markdown",
   "metadata": {},
   "source": [
    "> As interperted above, the correlation between each variable is almost 1 which indicates very strong relationship."
   ]
  },
  {
   "cell_type": "markdown",
   "metadata": {},
   "source": [
    "### 2. What impact does Loan Original Amount have on Borrower Interest Rate and Lender Yield?"
   ]
  },
  {
   "cell_type": "code",
   "execution_count": 37,
   "metadata": {},
   "outputs": [
    {
     "data": {
      "image/png": "[encoded data removed]",
      "text/plain": [
       "<Figure size 540x540 with 12 Axes>"
      ]
     },
     "metadata": {
      "needs_background": "light"
     },
     "output_type": "display_data"
    }
   ],
   "source": [
    "# Creating Multi Plots with 3 varibales.\n",
    "multiplots = sb.PairGrid(data = loans_edited, vars = ['BorrowerRate', 'LenderYield', 'LoanOriginalAmount'])\n",
    "multiplots.map_diag(plt.hist)\n",
    "multiplots.map_offdiag(plt.scatter);"
   ]
  },
  {
   "cell_type": "markdown",
   "metadata": {},
   "source": [
    "> As we observed above, there was a strong positive relationship between Borrower Rate and Lender Yield. The relationship between Original Loan Amount with either Lender Yield or Borrower Rate is weak negative relationship."
   ]
  },
  {
   "cell_type": "code",
   "execution_count": 38,
   "metadata": {
    "scrolled": true
   },
   "outputs": [
    {
     "data": {
      "image/png": "[encoded data removed]",
      "text/plain": [
       "<Figure size 720x360 with 2 Axes>"
      ]
     },
     "metadata": {
      "needs_background": "light"
     },
     "output_type": "display_data"
    }
   ],
   "source": [
    "# Heat Corr Map between the three Variables.\n",
    "loan_rate = loans_edited[['BorrowerRate', 'LenderYield', 'LoanOriginalAmount']]\n",
    "plt.figure(figsize=(10,5))\n",
    "sb.heatmap(loan_rate.corr(), annot = True, fmt = '.2f', cmap = 'vlag_r', center = 0);"
   ]
  },
  {
   "cell_type": "markdown",
   "metadata": {},
   "source": [
    "> As interperted above, the correlation between Original Loan Amount and either Borrower Rate or Lender Yield is -0.41 which indicated a weak negative relationship between them."
   ]
  },
  {
   "cell_type": "markdown",
   "metadata": {},
   "source": [
    "### 3. Does Stated Monthly Income affect the Monthly Loan Payment or Loan Original Amount?"
   ]
  },
  {
   "cell_type": "code",
   "execution_count": 39,
   "metadata": {},
   "outputs": [
    {
     "data": {
      "image/png": "[encoded data removed]",
      "text/plain": [
       "<Figure size 540x540 with 12 Axes>"
      ]
     },
     "metadata": {
      "needs_background": "light"
     },
     "output_type": "display_data"
    }
   ],
   "source": [
    "# Creating Multi Plots with 3 varibales.\n",
    "multiplots = sb.PairGrid(data = loans_edited, vars = ['StatedMonthlyIncome', 'MonthlyLoanPayment', 'LoanOriginalAmount'])\n",
    "multiplots.map_diag(plt.hist)\n",
    "multiplots.map_offdiag(plt.scatter);"
   ]
  },
  {
   "cell_type": "markdown",
   "metadata": {},
   "source": [
    "> We can observe that there's a positive relationship between Monthly Loan Payment and Loan Original Amount. The relationship between stated monthly income and either loan original amount is weak positive relationship which means that stated monthly income has very low effect on Loan Original Amount or Monthly Loan Payment. Most of the values are between 0 and 0.1."
   ]
  },
  {
   "cell_type": "code",
   "execution_count": 40,
   "metadata": {},
   "outputs": [
    {
     "data": {
      "image/png": "[encoded data removed]",
      "text/plain": [
       "<Figure size 432x288 with 2 Axes>"
      ]
     },
     "metadata": {
      "needs_background": "light"
     },
     "output_type": "display_data"
    }
   ],
   "source": [
    "# Heat Corr Map between the three Variables.\n",
    "monthly_loan = loans_edited[['StatedMonthlyIncome', 'MonthlyLoanPayment', 'LoanOriginalAmount']]\n",
    "sb.heatmap(monthly_loan.corr(), annot = True, fmt = '.2f', cmap = 'vlag_r', center = 0);"
   ]
  },
  {
   "cell_type": "markdown",
   "metadata": {},
   "source": [
    "> As Interpreted, the correlation between the Stated Monthly Income and either Loan Origianl Amount Or Monthly Loan Payment is weak positive relationship with a correlation of 0.18"
   ]
  },
  {
   "cell_type": "markdown",
   "metadata": {},
   "source": [
    "### Talk about some of the relationships you observed in this part of the investigation. Were there features that strengthened each other in terms of looking at your feature(s) of interest?\n",
    "\n",
    ">Yes, Some of the features strenghtened each other, like Monthly Loan Payment and Loan Origianl Amount, they had a positive strong relationship and it proved that Monthly payment increases as the Loan Amount increase. Also, Borrower APR, Borrower Interest Rate and Lender Yield, they also had a strong positive relationship and strengthened each other.\n",
    "\n",
    "### Were there any interesting or surprising interactions between features?\n",
    "\n",
    "> I was surprised when I saw the relationship between Borrower Interest and Loan Original amount as I thought they might have a strong positive relationship but I think interest rates differs from one loan to another and it doesn't mostly rely on the amount of the Loan."
   ]
  }
 ],
 "metadata": {
  "kernelspec": {
   "display_name": "Python 3",
   "language": "python",
   "name": "python3"
  },
  "language_info": {
   "codemirror_mode": {
    "name": "ipython",
    "version": 3
   },
   "file_extension": ".py",
   "mimetype": "text/x-python",
   "name": "python",
   "nbconvert_exporter": "python",
   "pygments_lexer": "ipython3",
   "version": "3.6.8"
  }
 },
 "nbformat": 4,
 "nbformat_minor": 2
}
